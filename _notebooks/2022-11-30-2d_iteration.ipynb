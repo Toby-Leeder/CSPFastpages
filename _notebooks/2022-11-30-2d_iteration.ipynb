{
 "cells": [
  {
   "cell_type": "markdown",
   "metadata": {},
   "source": [
    "# 2D Iteration\n",
    "\n",
    "## 2D array\n",
    "\n",
    "A 2D array is simply just a list of lists. The example below is technically correct but..."
   ]
  },
  {
   "cell_type": "code",
   "execution_count": 14,
   "metadata": {},
   "outputs": [],
   "source": [
    "# Example matrix\n",
    "\n",
    "keypad = [[1, 2, 3], [4, 5, 6], [7, 8, 9], [\" \", 0, \" \"]]"
   ]
  },
  {
   "cell_type": "markdown",
   "metadata": {},
   "source": [
    "Conventially 2D arrays are written like below. This is because 2D arrays are meant to be read in 2 dimensions (hence the name). Writing them like below makes them easier to visualize and understand. "
   ]
  },
  {
   "cell_type": "code",
   "execution_count": 15,
   "metadata": {},
   "outputs": [],
   "source": [
    "# Better example matrix\n",
    "keypad =   [[1, 2, 3],\n",
    "            [4, 5, 6],\n",
    "            [7, 8, 9],\n",
    "            [\" \", 0, \" \"]]"
   ]
  },
  {
   "cell_type": "markdown",
   "metadata": {},
   "source": [
    "## Printing a 2D Array\n",
    "We already know that we can't just print the matrix by calling it. We need to iterate through it to print it. "
   ]
  },
  {
   "cell_type": "code",
   "execution_count": 16,
   "metadata": {},
   "outputs": [],
   "source": [
    "# Nested loops using ij indexes\n",
    "def print_matrix1(matrix): \n",
    "    for i in range(len(matrix)):  # outer for loop. This runs on i which represents the row. range(len(matrix)) is in order to iterate through the length of the matrix\n",
    "        for j in range(len(matrix[i])):  # inner for loop. This runs on the length of the i'th row in the matrix (j changes for each row with a different length)\n",
    "            print(matrix[i][j], end=\" \")  # [i][j] is the 2D location of that value in the matrix. [i] iterates to the specific row and [j] iterates to the specific value in the row. end=\" \" changes the end value to space, not a new line.\n",
    "        print() # prints extra line. this is in the outer loop, not the inner loop, because it only wants to print a new line for each row\n",
    "\n"
   ]
  },
  {
   "cell_type": "code",
   "execution_count": 17,
   "metadata": {},
   "outputs": [
    {
     "name": "stdout",
     "output_type": "stream",
     "text": [
      "Raw matrix (list of lists): \n",
      "[[1, 2, 3], [4, 5, 6], [7, 8, 9], [' ', 0, ' ']]\n",
      "Matrix printed using nested for loop iteration\n",
      "1 2 3 \n",
      "4 5 6 \n",
      "7 8 9 \n",
      "  0   \n",
      "\n"
     ]
    }
   ],
   "source": [
    "print(\"Raw matrix (list of lists): \")\n",
    "print(keypad)\n",
    "print(\"Matrix printed using nested for loop iteration\")\n",
    "print_matrix1(keypad)\n",
    "print()\n"
   ]
  },
  {
   "cell_type": "code",
   "execution_count": 18,
   "metadata": {},
   "outputs": [
    {
     "name": "stdout",
     "output_type": "stream",
     "text": [
      "1 2 3 \n",
      "4 5 6 \n",
      "7 8 9 \n",
      "  0   \n"
     ]
    }
   ],
   "source": [
    "def print_matrix2(matrix):\n",
    "    for row in matrix:  # Iterates through each \"row\" of matrix. Row is a dummy variable, it could technically be anything. It iterates through each value of matrix and each value is it's own list. in this syntax the list is stored in \"row\".\n",
    "        for col in row:  # Iterates through each value in row. Again col, column, is a dummy variable. Each value in row is stored in col.\n",
    "            print(col, end=\" \") # Same as 1\n",
    "        print() # Same as 1\n",
    "\n",
    "print_matrix2(keypad)"
   ]
  },
  {
   "cell_type": "markdown",
   "metadata": {},
   "source": [
    "Try to find another way to print the matrix. Below is a hint"
   ]
  },
  {
   "cell_type": "code",
   "execution_count": 19,
   "metadata": {},
   "outputs": [
    {
     "name": "stdout",
     "output_type": "stream",
     "text": [
      "['apples', 'bananas', 'grapes']\n",
      "apples bananas grapes\n"
     ]
    }
   ],
   "source": [
    "fruit = [\"apples\", \"bananas\", \"grapes\"]\n",
    "print(fruit)\n",
    "print(*fruit) # Python built in function: \"*\". Figure out what it does"
   ]
  },
  {
   "cell_type": "code",
   "execution_count": 20,
   "metadata": {},
   "outputs": [],
   "source": [
    "def print_matrix3(matrix):\n",
    "    code = \"your code goes here\""
   ]
  },
  {
   "cell_type": "code",
   "execution_count": 21,
   "metadata": {},
   "outputs": [],
   "source": [
    "keyboard = [[\"`\", 1, 2, 3, 4, 5, 6, 7, 8, 9, 0, \"-\", \"=\"],\n",
    "            [\"Q\", \"W\", \"E\", \"R\", \"T\", \"Y\", \"U\", \"I\", \"O\", \"P\", \"[\", \"]\"],\n",
    "            [\"A\", \"S\", \"D\", \"F\", \"G\", \"H\", \"J\", \"K\", \"L\", \";\", \"'\"],\n",
    "            [\"Z\", \"X\", \"C\", \"V\", \"B\", \"N\", \"M\", \",\", \".\", \"/\"]]"
   ]
  },
  {
   "cell_type": "markdown",
   "metadata": {},
   "source": [
    "Print what month you were born and how old you are by iterating through the keyboard (don't just write a string)."
   ]
  },
  {
   "cell_type": "code",
   "execution_count": null,
   "metadata": {},
   "outputs": [],
   "source": []
  },
  {
   "cell_type": "markdown",
   "metadata": {},
   "source": [
    "Challenge: Change all of the letters that you DIDN'T print above to spaces, \" \", and then print the full keyboard. (the things you did print should remain in the same spot)"
   ]
  },
  {
   "cell_type": "code",
   "execution_count": null,
   "metadata": {},
   "outputs": [],
   "source": []
  }
 ],
 "metadata": {
  "kernelspec": {
   "display_name": "Python 3.10.6 64-bit",
   "language": "python",
   "name": "python3"
  },
  "language_info": {
   "codemirror_mode": {
    "name": "ipython",
    "version": 3
   },
   "file_extension": ".py",
   "mimetype": "text/x-python",
   "name": "python",
   "nbconvert_exporter": "python",
   "pygments_lexer": "ipython3",
   "version": "3.10.6"
  },
  "orig_nbformat": 4,
  "vscode": {
   "interpreter": {
    "hash": "aee8b7b246df8f9039afb4144a1f6fd8d2ca17a180786b69acc140d282b71a49"
   }
  }
 },
 "nbformat": 4,
 "nbformat_minor": 2
}
