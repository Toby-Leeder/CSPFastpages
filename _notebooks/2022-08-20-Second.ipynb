{
 "cells": [
  {
   "cell_type": "markdown",
   "metadata": {},
   "source": [
    "# Second thing\n",
    "> The first thing kinda worked, will this one?\n",
    "\n",
    "- toc: true \n",
    "- badges: true\n",
    "- comments: false\n",
    "- categories: [Toby]"
   ]
  },
  {
   "cell_type": "markdown",
   "metadata": {},
   "source": [
    "# What did I do?\n",
    "\n",
    "I disabled comments. Why did I do it? I did it because I wanted to. You shouldn't be able to comment on this. If you can it means I did something wrong which would be bad, but I don't think I did. I think I did it right. Go try it right now actually I'll wait..."
   ]
  },
  {
   "cell_type": "markdown",
   "metadata": {},
   "source": [
    "# Gullable\n",
    "\n",
    "Thats a good word. It describes you. Did you just go check if you can comment on this page? I told you you couldn't. Did you still look? Did you scroll all the way to the bottom only to realize you couldn't actually comment and I was telling the truth? Did you realize that I didn't make a mistake and my new page works perfectly (and it works first time)? If you did shame on you. If you didn't I don't really care it's not like it really matters to me what you do. If I had ads on this website it would be one thing, but I don't. I don't even know if I can have ads. Can I? Who knows. Maybe I'll try it. I could make some money every time my assignments get graded. That could be a good idea. Though the money would probably be percents of a cent. It's still money. It's called passive income. Always the right choice. \n",
    "\n",
    "\n",
    "...\n",
    "\n",
    "\n",
    "\n",
    "Anyway.\n",
    "\n",
    "\n",
    "That's the end."
   ]
  }
 ],
 "metadata": {
  "kernelspec": {
   "display_name": "Bash",
   "language": "bash",
   "name": "bash"
  },
  "language_info": {
   "name": "bash",
   "version": "3.10.6"
  },
  "orig_nbformat": 4,
  "vscode": {
   "interpreter": {
    "hash": "aee8b7b246df8f9039afb4144a1f6fd8d2ca17a180786b69acc140d282b71a49"
   }
  }
 },
 "nbformat": 4,
 "nbformat_minor": 2
}
