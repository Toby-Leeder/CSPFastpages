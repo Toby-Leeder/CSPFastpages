{
 "cells": [
  {
   "cell_type": "markdown",
   "metadata": {},
   "source": [
    "# Thing w/API\n",
    "> I need to make something with apis.\n",
    "- title: RapidAPI the Return\n",
    "- toc: false\n",
    "- categories: [week 7]\n",
    "- permalink: /api/thing"
   ]
  },
  {
   "cell_type": "markdown",
   "metadata": {},
   "source": [
    "{% include nav_api.html %}"
   ]
  },
  {
   "cell_type": "code",
   "execution_count": 15,
   "metadata": {},
   "outputs": [
    {
     "name": "stdout",
     "output_type": "stream",
     "text": [
      "Here is your favorite actors name and bio!\n",
      "Toby Leeder\n",
      "Toby Leeder is known for Chuck Hank and the San Diego Twins (2022), The Call (2020) and Love XO (2022).\n",
      "Here is the link to the image of toby you see below: https://m.media-amazon.com/images/M/MV5BNmJjZDVjMWUtMTY2ZS00NDc4LTgwMGYtNjNmZTc1YzhkMWZiXkEyXkFqcGdeQXVyNDY0MDQ4MDg@._V1_.jpg\n"
     ]
    }
   ],
   "source": [
    "import requests\n",
    "from IPython.display import Markdown as md\n",
    "\n",
    "#IMDB API endpoint to get a users bio\n",
    "url = \"https://imdb8.p.rapidapi.com/actors/get-bio\"\n",
    "\n",
    "headers = {\n",
    "\t\"X-RapidAPI-Key\": \"070652e641mshef3b7431c30b633p174936jsn56763374d512\",\n",
    "\t\"X-RapidAPI-Host\": \"imdb8.p.rapidapi.com\"\n",
    "}\n",
    "\n",
    "\n",
    "a = 1\n",
    "\n",
    "def actorCheck(fav, a):\n",
    "    if (fav.lower() != \"toby leeder\" and a <= 5):\n",
    "        fav = input(wrongBruh(a))\n",
    "        a += 1\n",
    "        actorCheck(fav, a)\n",
    "    else:\n",
    "        return \"Toby Leeder\"\n",
    "\n",
    "\n",
    "def wrongBruh(a):\n",
    "    if a == 1:\n",
    "        return \"Ok lets try this again. Pick your favorite actor who's name starts with T\"\n",
    "    elif a == 2:\n",
    "        return \"Ok ok, they're pretty good, but what about your favorite actor who's name starts with Toby?\"\n",
    "    elif a == 3:\n",
    "        return \"OK that's closer, try another Toby.\"\n",
    "    elif a == 4:\n",
    "        return \"Wrong. Did You mean Toby Leeder? I think you meant Toby Leeder. It's ok. Try again.\"\n",
    "    elif a == 5:\n",
    "        return \"Thats it I'm chosing for you.\"\n",
    "\n",
    "favActor = input(\"Write the name of your favorite actor\")\n",
    "favActor = actorCheck(favActor, a)\n",
    "\n",
    "querystring = {\"nconst\":\"nm5927244\"}\n",
    "tobySearch = requests.request(\"GET\", url, headers=headers, params=querystring)\n",
    "\n",
    "print(\"Here is your favorite actors name and bio!\")\n",
    "print(tobySearch.json().get(\"name\"))\n",
    "print(tobySearch.json().get(\"miniBios\")[0].get(\"text\"))\n",
    "tobyImage = tobySearch.json().get(\"image\").get(\"url\")\n",
    "print(\"Here is the link to the image of toby you see below: \" + tobyImage)\n"
   ]
  },
  {
   "cell_type": "markdown",
   "metadata": {},
   "source": [
    "![](https://m.media-amazon.com/images/M/MV5BNmJjZDVjMWUtMTY2ZS00NDc4LTgwMGYtNjNmZTc1YzhkMWZiXkEyXkFqcGdeQXVyNDY0MDQ4MDg@._V1_.jpg \"among us\")"
   ]
  }
 ],
 "metadata": {
  "kernelspec": {
   "display_name": "Python 3.9.12 ('base')",
   "language": "python",
   "name": "python3"
  },
  "language_info": {
   "codemirror_mode": {
    "name": "ipython",
    "version": 3
   },
   "file_extension": ".py",
   "mimetype": "text/x-python",
   "name": "python",
   "nbconvert_exporter": "python",
   "pygments_lexer": "ipython3",
   "version": "3.9.12"
  },
  "orig_nbformat": 4,
  "vscode": {
   "interpreter": {
    "hash": "36ac99974a67ba75ab4929ee9ef936c7cb2a4690d97ade6d3ca6bd9cb1ab7116"
   }
  }
 },
 "nbformat": 4,
 "nbformat_minor": 2
}
