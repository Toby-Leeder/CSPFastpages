{
 "cells": [
  {
   "attachments": {},
   "cell_type": "markdown",
   "metadata": {},
   "source": [
    "# Lesson Vocab\n",
    "> Notes on the Vocab I've Learned\n",
    "\n",
    "- toc: false\n",
    "- badges: false\n",
    "- permalink: /lessonVocab\n",
    "- categories: [lessons]"
   ]
  },
  {
   "attachments": {},
   "cell_type": "markdown",
   "metadata": {},
   "source": [
    "## Binary:\n",
    "- Bits \n",
    "    - Bits are single pieces of information which can either have a 0 or a 1. They are the building block of all code.\n",
    "- Bytes\n",
    "    - A single byte is 8 bits. Megabytes, Gigabytes, etc are all multiples of bytes and they represent memory or storage\n",
    "- Hexedecimal\n",
    "    - base 16 counting. Binary is a base 2 system\n",
    "- Unsigned Integer\n",
    "    - An unsigned integer is a basic number value in bits. It does not include a negative or positive and therefore is non-negative\n",
    "- Signed Integer\n",
    "    - An integer with a negative or positive\n",
    "- Floating Point\n",
    "    - A way of approximately representing decimal values\n",
    "- Boolean\n",
    "    - Data type with a true/false value, can be represented with 1s and 0s\n",
    "- ASCII\n",
    "    - A Character encoding standard, transfers binary to chars\n",
    "- Unicode\n",
    "    - Another character encoding standard, builds on ASCII\n",
    "- RGB\n",
    "    - Color codes are represented in Hexidecimal which describe the red green and blue values to build a color\n",
    "- "
   ]
  }
 ],
 "metadata": {
  "kernelspec": {
   "display_name": "base",
   "language": "python",
   "name": "python3"
  },
  "language_info": {
   "name": "python",
   "version": "3.9.12 (main, Apr  5 2022, 01:53:17) \n[Clang 12.0.0 ]"
  },
  "orig_nbformat": 4,
  "vscode": {
   "interpreter": {
    "hash": "36ac99974a67ba75ab4929ee9ef936c7cb2a4690d97ade6d3ca6bd9cb1ab7116"
   }
  }
 },
 "nbformat": 4,
 "nbformat_minor": 2
}
