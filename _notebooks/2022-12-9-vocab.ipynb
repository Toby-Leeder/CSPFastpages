{
 "cells": [
  {
   "attachments": {},
   "cell_type": "markdown",
   "metadata": {},
   "source": [
    "# Lesson Vocab\n",
    "> Notes on the Vocab I've Learned\n",
    "\n",
    "- toc: false\n",
    "- badges: false\n",
    "- permalink: /lessonVocab\n",
    "- categories: [lessons]"
   ]
  },
  {
   "attachments": {},
   "cell_type": "markdown",
   "metadata": {},
   "source": [
    "## Binary:\n",
    "- Bits \n",
    "    - Bits are single pieces of information which can either have a 0 or a 1. They are the building block of all code.\n",
    "- Bytes\n",
    "    - A single byte is 8 bits. Megabytes, Gigabytes, etc are all multiples of bytes and they represent memory or storage\n",
    "- Hexedecimal\n",
    "    - base 16 counting. Binary is a base 2 system\n",
    "- Unsigned Integer\n",
    "    - An unsigned integer is a basic number value in bits. It does not include a negative or positive and therefore is non-negative\n",
    "- Signed Integer\n",
    "    - An integer with a negative or positive\n",
    "- Floating Point\n",
    "    - A way of approximately representing decimal values\n",
    "- Boolean\n",
    "    - Data type with a true/false value, can be represented with 1s and 0s\n",
    "- ASCII\n",
    "    - A Character encoding standard, transfers binary to chars\n",
    "- Unicode\n",
    "    - Another character encoding standard, builds on ASCII\n",
    "- RGB\n",
    "    - Color codes are represented in Hexidecimal which describe the red green and blue values to build a color\n",
    "    - EX: #FF0000, rgb(255, 0, 0)\n",
    "- Lossy and Lossless?\n"
   ]
  },
  {
   "attachments": {},
   "cell_type": "markdown",
   "metadata": {},
   "source": [
    "## Algorithm Stuff:\n",
    "- Variables\n",
    "    - A variable is a way to store data and use that data\n",
    "- Data Types:\n",
    "    - Boolean: True or Valse\n",
    "    - Integer: Whole number\n",
    "    - Float/Double: Decimal Number\n",
    "    - Char: A letter\n",
    "    - String: A group of Chars aka a word\n",
    "- Assignment Operators\n",
    "    - How you assign a value to a variable\n",
    "    - Uses =, can be more advanced\n",
    "    - EX:"
   ]
  },
  {
   "cell_type": "code",
   "execution_count": 2,
   "metadata": {},
   "outputs": [
    {
     "name": "stdout",
     "output_type": "stream",
     "text": [
      "9\n",
      "\n",
      "2.0\n"
     ]
    }
   ],
   "source": [
    "sum = 5\n",
    "sum += 4\n",
    "print(sum)\n",
    "print()\n",
    "\n",
    "div = 12\n",
    "div /= 6\n",
    "print(div)"
   ]
  },
  {
   "attachments": {},
   "cell_type": "markdown",
   "metadata": {},
   "source": [
    "-  lists\n",
    "    - a list is a data type which stores multiple variables in an order under a single variable"
   ]
  },
  {
   "cell_type": "code",
   "execution_count": null,
   "metadata": {},
   "outputs": [],
   "source": [
    "favFoods = [\"Pizza\", \"Pasta\", \"Pie\"]"
   ]
  },
  {
   "attachments": {},
   "cell_type": "markdown",
   "metadata": {},
   "source": [
    "- 2d lists\n",
    "    - A list of lists"
   ]
  },
  {
   "cell_type": "code",
   "execution_count": null,
   "metadata": {},
   "outputs": [],
   "source": [
    "keypad = [[\"1\", \"2\", \"3\"],\n",
    "          [\"4\", \"5\", \"6\"],\n",
    "          [\"7\", \"8\", \"9\"],\n",
    "          [\" \", \"0\", \" \"]]"
   ]
  },
  {
   "attachments": {},
   "cell_type": "markdown",
   "metadata": {},
   "source": [
    "- dictionary\n",
    "    - A list of keys and values, each item in the list is paired with a corresponding item"
   ]
  },
  {
   "cell_type": "code",
   "execution_count": null,
   "metadata": {},
   "outputs": [],
   "source": [
    "rankedFoods = {\n",
    "    \"Pizza\" : 1,\n",
    "    \"Pasta\" : 2,\n",
    "    \"Pie\" : 3\n",
    "}"
   ]
  },
  {
   "attachments": {},
   "cell_type": "markdown",
   "metadata": {},
   "source": [
    "- Class\n",
    "    - A blueprint for an object"
   ]
  },
  {
   "attachments": {},
   "cell_type": "markdown",
   "metadata": {},
   "source": [
    "- Algorithms\n",
    "    - "
   ]
  }
 ],
 "metadata": {
  "kernelspec": {
   "display_name": "base",
   "language": "python",
   "name": "python3"
  },
  "language_info": {
   "codemirror_mode": {
    "name": "ipython",
    "version": 3
   },
   "file_extension": ".py",
   "mimetype": "text/x-python",
   "name": "python",
   "nbconvert_exporter": "python",
   "pygments_lexer": "ipython3",
   "version": "3.9.12"
  },
  "orig_nbformat": 4,
  "vscode": {
   "interpreter": {
    "hash": "36ac99974a67ba75ab4929ee9ef936c7cb2a4690d97ade6d3ca6bd9cb1ab7116"
   }
  }
 },
 "nbformat": 4,
 "nbformat_minor": 2
}
