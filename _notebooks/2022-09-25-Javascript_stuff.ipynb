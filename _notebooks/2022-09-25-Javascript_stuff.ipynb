{
 "cells": [
  {
   "cell_type": "markdown",
   "metadata": {},
   "source": [
    "# Table w/Javascript and w/HTML\n",
    "> Here's my first table and really my first thing using HTML and JS\n",
    "\n",
    "- layout: default\n",
    "- badges: false\n",
    "- toc: true\n",
    "- categories: [week_5]\n",
    "\n",
    "{% include nav_frontend.html %}"
   ]
  },
  {
   "cell_type": "code",
   "execution_count": 2,
   "metadata": {},
   "outputs": [],
   "source": [
    "function logIt(output) {\n",
    "    console.log(output);\n",
    "}\n"
   ]
  },
  {
   "cell_type": "code",
   "execution_count": 3,
   "metadata": {},
   "outputs": [],
   "source": [
    "function logItType(output) {\n",
    "    console.log(typeof output, \";\", output);\n",
    "}\n"
   ]
  },
  {
   "cell_type": "code",
   "execution_count": 4,
   "metadata": {},
   "outputs": [
    {
     "name": "stdout",
     "output_type": "stream",
     "text": [
      "object ; Person {\n",
      "  name: 'Mr M',\n",
      "  ghID: 'jm1021',\n",
      "  classOf: 1977,\n",
      "  role: '',\n",
      "  grade: undefined }\n",
      "string ; {\"name\":\"Mr M\",\"ghID\":\"jm1021\",\"classOf\":1977,\"role\":\"\"}\n",
      "object ; Person {\n",
      "  name: 'Toby',\n",
      "  ghID: 'toby-leeder',\n",
      "  classOf: 2024,\n",
      "  role: 'Leeder Of The Friend Group',\n",
      "  grade: '11' }\n",
      "object ; Person {\n",
      "  name: 'Mr M',\n",
      "  ghID: 'jm1021',\n",
      "  classOf: 1977,\n",
      "  role: 'Teacher',\n",
      "  grade: 'Not In School' }\n",
      "string ; {\"name\":\"Mr M\",\"ghID\":\"jm1021\",\"classOf\":1977,\"role\":\"Teacher\"}\n"
     ]
    }
   ],
   "source": [
    "// define a function to hold data for a Person\n",
    "function Person(name, ghID, classOf, grade) {\n",
    "    this.name = name;\n",
    "    this.ghID = ghID;\n",
    "    this.classOf = classOf;\n",
    "    this.role = \"\";\n",
    "    this.grade = grade;\n",
    "}\n",
    "\n",
    "// define a setter for role in Person data\n",
    "Person.prototype.setRole = function(role) {\n",
    "    this.role = role;\n",
    "}\n",
    "\n",
    "Person.prototype.setGrade = function(grade){\n",
    "    this.grade = grade;\n",
    "}\n",
    "\n",
    "// define a JSON conversion \"method\" associated with Person\n",
    "Person.prototype.toJSON = function() {\n",
    "    const obj = {name: this.name, ghID: this.ghID, classOf: this.classOf, role: this.role};\n",
    "    const json = JSON.stringify(obj);\n",
    "    return json;\n",
    "}\n",
    "\n",
    "// make a new Person and assign to variable teacher\n",
    "var teacher = new Person(\"Mr M\", \"jm1021\", 1977);  // object type is easy to work with in JavaScript\n",
    "logItType(teacher);  // before role\n",
    "logItType(teacher.toJSON());  // ok to do this even though role is not yet defined\n",
    "\n",
    "// make another New person\n",
    "var toby = new Person(\"Toby\", \"toby-leeder\", 2024);\n",
    "toby.setRole(\"Leeder Of The Friend Group\")\n",
    "toby.setGrade(\"11\")\n",
    "logItType(toby);\n",
    "\n",
    "// output of Object and JSON/string associated with Teacher\n",
    "teacher.setRole(\"Teacher\");   // set the role\n",
    "teacher.setGrade(\"Not In School\")\n",
    "logItType(teacher); \n",
    "logItType(teacher.toJSON());  "
   ]
  },
  {
   "cell_type": "code",
   "execution_count": 5,
   "metadata": {},
   "outputs": [
    {
     "name": "stdout",
     "output_type": "stream",
     "text": [
      "object ; [ Person {\n",
      "    name: 'Mr M',\n",
      "    ghID: 'jm1021',\n",
      "    classOf: 1977,\n",
      "    role: 'Teacher',\n",
      "    grade: 'Not in school' },\n",
      "  Person {\n",
      "    name: 'Anthony',\n",
      "    ghID: 'tonyhieu',\n",
      "    classOf: 2023,\n",
      "    role: 'Student',\n",
      "    grade: '12' },\n",
      "  Person {\n",
      "    name: 'Bria',\n",
      "    ghID: 'B-G101',\n",
      "    classOf: 2024,\n",
      "    role: 'Student',\n",
      "    grade: '11' },\n",
      "  Person {\n",
      "    name: 'Allie',\n",
      "    ghID: 'xiaoa0',\n",
      "    classOf: 2024,\n",
      "    role: 'Student',\n",
      "    grade: '11' },\n",
      "  Person {\n",
      "    name: 'Tigran',\n",
      "    ghID: 'Tigran7',\n",
      "    classOf: 2024,\n",
      "    role: 'Student',\n",
      "    grade: '11' },\n",
      "  Person {\n",
      "    name: 'Rebecca',\n",
      "    ghID: 'Rebecca-123',\n",
      "    classOf: 2024,\n",
      "    role: 'Student',\n",
      "    grade: '11' },\n",
      "  Person {\n",
      "    name: 'Vidhi',\n",
      "    ghID: 'unknown',\n",
      "    classOf: 2024,\n",
      "    role: 'Student',\n",
      "    grade: '12' },\n",
      "  Person {\n",
      "    name: 'Toby',\n",
      "    ghID: 'toby-leeder',\n",
      "    classOf: 2024,\n",
      "    role: 'Student',\n",
      "    grade: '11' },\n",
      "  Person {\n",
      "    name: 'Bailey',\n",
      "    ghID: 'N/A',\n",
      "    classOf: 2026,\n",
      "    role: 'Student',\n",
      "    grade: '9' } ]\n",
      "string ; Mr M\n",
      "string ; {\"name\":\"Mr M\",\"ghID\":\"jm1021\",\"classOf\":1977,\"role\":\"Teacher\"}\n",
      "object ; { name: 'Mr M', ghID: 'jm1021', classOf: 1977, role: 'Teacher' }\n"
     ]
    }
   ],
   "source": [
    "// define a student Array of Person(s)\n",
    "var students = [ \n",
    "    new Person(\"Anthony\", \"tonyhieu\", 2023, \"12\"),\n",
    "    new Person(\"Bria\", \"B-G101\", 2024, \"11\"),\n",
    "    new Person(\"Allie\", \"xiaoa0\", 2024, \"11\"),\n",
    "    new Person(\"Tigran\", \"Tigran7\", 2024, \"11\"),\n",
    "    new Person(\"Rebecca\", \"Rebecca-123\", 2024, \"11\"),\n",
    "    new Person(\"Vidhi\", \"unknown\", 2024, \"12\"),\n",
    "    new Person(\"Toby\", \"toby-leeder\", 2024, \"11\"),\n",
    "    new Person(\"Bailey\", \"N/A\", 2026, \"9\")\n",
    "];\n",
    "\n",
    "// define a classroom and build Classroom objects and json\n",
    "function Classroom(teacher, students){ // 1 teacher, many student\n",
    "    // start Classroom with Teacher\n",
    "    teacher.setRole(\"Teacher\");\n",
    "    teacher.setGrade(\"Not in school\")\n",
    "    this.teacher = teacher;\n",
    "    this.classroom = [teacher];\n",
    "    // add each Student to Classroom\n",
    "    this.students = students;\n",
    "    this.students.forEach(student => { student.setRole(\"Student\"); this.classroom.push(student); });\n",
    "    // build json/string format of Classroom\n",
    "    this.json = [];\n",
    "    this.classroom.forEach(person => this.json.push(person.toJSON()));\n",
    "}\n",
    "\n",
    "// make a CompSci classroom from formerly defined teacher and students\n",
    "compsci = new Classroom(teacher, students);\n",
    "\n",
    "// output of Objects and JSON in CompSci classroom\n",
    "logItType(compsci.classroom);  // constructed classroom object\n",
    "logItType(compsci.classroom[0].name);  // abstract 1st objects name\n",
    "logItType(compsci.json[0]);  // show json conversion of 1st object to string\n",
    "logItType(JSON.parse(compsci.json[0]));  // show JSON.parse inverse of JSON.stringify"
   ]
  },
  {
   "cell_type": "markdown",
   "metadata": {},
   "source": [
    "### IJavaScript and Table formatting using toHTML method\n",
    "This example builds a <mark>Classroom method _toHTML</mark> which is passed to the IJavaScript interpreter $$.html which renders output similarly to a real website.  \n",
    "- JavaScript in the _toHTML method is broken into three parts...\n",
    "    - Style part is building CSS inline formatting\n",
    "    - Body part is constructing the Table Rows (tr), Table Headings (th), and Table Data (td).  The table data is obtained from a Classroom object.  The JavaScript for loop allows the construction of a new row of data for each person object in the Array.\n",
    "    - Return part creates the HTML fragment for rendering\n",
    "- The last line in the example <mark>$$.html is IJavaScript HTML interpreter</mark> and by passing the parameter of the _toHTML method it obtains HTML to render"
   ]
  },
  {
   "cell_type": "code",
   "execution_count": 6,
   "metadata": {},
   "outputs": [
    {
     "data": {
      "text/html": [
       "<div style='display:inline-block;border: 2px solid grey;box-shadow: 0.8em 0.4em 0.4em grey;'><table><tr><th><mark>Name</mark></th><th><mark>GitHub ID</mark></th><th><mark>Class Of</mark></th><th><mark>Role</mark></th><th><mark>Grade</mark><th></tr><tr><td>Mr M</td><td>jm1021</td><td>1977</td><td>Teacher</td><td>Not in school</td><tr><tr><td>Anthony</td><td>tonyhieu</td><td>2023</td><td>Student</td><td>12</td><tr><tr><td>Bria</td><td>B-G101</td><td>2024</td><td>Student</td><td>11</td><tr><tr><td>Allie</td><td>xiaoa0</td><td>2024</td><td>Student</td><td>11</td><tr><tr><td>Tigran</td><td>Tigran7</td><td>2024</td><td>Student</td><td>11</td><tr><tr><td>Rebecca</td><td>Rebecca-123</td><td>2024</td><td>Student</td><td>11</td><tr><tr><td>Vidhi</td><td>unknown</td><td>2024</td><td>Student</td><td>12</td><tr><tr><td>Toby</td><td>toby-leeder</td><td>2024</td><td>Student</td><td>11</td><tr><tr><td>Bailey</td><td>N/A</td><td>2026</td><td>Student</td><td>9</td><tr></table></div>"
      ]
     },
     "execution_count": 6,
     "metadata": {},
     "output_type": "execute_result"
    }
   ],
   "source": [
    "// define an HTML conversion \"method\" associated with Classroom\n",
    "Classroom.prototype._toHtml = function() {\n",
    "  // HTML Style is build using inline structure\n",
    "  var style = (\n",
    "    \"display:inline-block;\" +\n",
    "    \"border: 2px solid grey;\" +\n",
    "    \"box-shadow: 0.8em 0.4em 0.4em grey;\"\n",
    "  );\n",
    "\n",
    "  // HTML Body of Table is build as a series of concatenations (+=)\n",
    "  var body = \"\";\n",
    "  // Heading for Array Columns\n",
    "  body += \"<tr>\";\n",
    "  body += \"<th><mark>\" + \"Name\" + \"</mark></th>\";\n",
    "  body += \"<th><mark>\" + \"GitHub ID\" + \"</mark></th>\";\n",
    "  body += \"<th><mark>\" + \"Class Of\" + \"</mark></th>\";\n",
    "  body += \"<th><mark>\" + \"Role\" + \"</mark></th>\";\n",
    "  body += \"<th><mark>\" + \"Grade\" + \"</mark><th>\";\n",
    "  body += \"</tr>\";\n",
    "  // Data of Array, iterate through each row of compsci.classroom \n",
    "  for (var row of compsci.classroom) {\n",
    "    // tr for each row, a new line\n",
    "    body += \"<tr>\";\n",
    "    // td for each column of data\n",
    "    body += \"<td>\" + row.name + \"</td>\";\n",
    "    body += \"<td>\" + row.ghID + \"</td>\";\n",
    "    body += \"<td>\" + row.classOf + \"</td>\";\n",
    "    body += \"<td>\" + row.role + \"</td>\";\n",
    "    body += \"<td>\" + row.grade + \"</td>\";\n",
    "    // tr to end line\n",
    "    body += \"<tr>\";\n",
    "  }\n",
    "\n",
    "   // Build and HTML fragment of div, table, table body\n",
    "  return (\n",
    "    \"<div style='\" + style + \"'>\" +\n",
    "      \"<table>\" +\n",
    "        body +\n",
    "      \"</table>\" +\n",
    "    \"</div>\"\n",
    "  );\n",
    "\n",
    "};\n",
    "\n",
    "// IJavaScript HTML processor receive parameter of defined HTML fragment\n",
    "$$.html(compsci._toHtml());"
   ]
  },
  {
   "cell_type": "code",
   "execution_count": null,
   "metadata": {},
   "outputs": [],
   "source": []
  }
 ],
 "metadata": {
  "kernelspec": {
   "display_name": "JavaScript (Node.js)",
   "language": "javascript",
   "name": "javascript"
  },
  "language_info": {
   "file_extension": ".js",
   "mimetype": "application/javascript",
   "name": "javascript",
   "version": "10.13.0"
  },
  "vscode": {
   "interpreter": {
    "hash": "aee8b7b246df8f9039afb4144a1f6fd8d2ca17a180786b69acc140d282b71a49"
   }
  }
 },
 "nbformat": 4,
 "nbformat_minor": 2
}
