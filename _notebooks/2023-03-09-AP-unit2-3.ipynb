{
 "cells": [
  {
   "attachments": {},
   "cell_type": "markdown",
   "metadata": {},
   "source": [
    "#  Unit 2.3 Extracting Information from Data, Pandas\n",
    "> Data connections, trends, and correlation.  Pandas is introduced as it could be valuable for PBL, data validation, as well as understanding College Board Topics.\n",
    "- toc: true\n",
    "- categories: []\n",
    "- week: 25\n",
    "- permalink: /2.3"
   ]
  },
  {
   "attachments": {},
   "cell_type": "markdown",
   "metadata": {},
   "source": [
    "# Files To Get\n",
    "\n",
    "Save this file to your **_notebooks** folder\n",
    "\n",
    "wget https://raw.githubusercontent.com/nighthawkcoders/APCSP/master/_notebooks/2023-03-09-AP-unit2-3.ipynb\n",
    "\n",
    "Save these files into a subfolder named **files** in your **_notebooks** folder\n",
    "\n",
    "wget https://raw.githubusercontent.com/nighthawkcoders/APCSP/master/_notebooks/files/data.csv\n",
    "\n",
    "wget https://raw.githubusercontent.com/nighthawkcoders/APCSP/master/_notebooks/files/grade.json\n",
    "\n",
    "Save this image into a subfolder named **images** in your **_notebooks** folder\n",
    "\n",
    "wget https://raw.githubusercontent.com/nighthawkcoders/APCSP/master/_notebooks/images/table_dataframe.png\n"
   ]
  },
  {
   "attachments": {},
   "cell_type": "markdown",
   "metadata": {},
   "source": [
    "# Pandas and DataFrames\n",
    "> In this lesson we will be exploring data analysis using Pandas.  \n",
    "\n",
    "- College Board talks about ideas like \n",
    "    - Tools. \"the ability to process data depends on users capabilities and their tools\"\n",
    "    - Combining Data.  \"combine county data sets\"\n",
    "    - Status on Data\"determining the artist with the greatest attendance during a particular month\"\n",
    "    - Data poses challenge. \"the need to clean data\", \"incomplete data\"\n",
    "\n",
    "\n",
    "- [From Pandas Overview](https://pandas.pydata.org/docs/getting_started/index.html) -- When working with tabular data, such as data stored in spreadsheets or databases, pandas is the right tool for you. pandas will help you to explore, clean, and process your data. In pandas, a data table is called a DataFrame.\n",
    "\n",
    "\n",
    "![DataFrame](images/table_dataframe.png)"
   ]
  },
  {
   "cell_type": "code",
   "execution_count": 2,
   "metadata": {},
   "outputs": [],
   "source": [
    "'''Pandas is used to gather data sets through its DataFrames implementation'''\n",
    "import pandas as pd"
   ]
  },
  {
   "attachments": {},
   "cell_type": "markdown",
   "metadata": {},
   "source": [
    "# Cleaning Data\n",
    "\n",
    "When looking at a data set, check to see what data needs to be cleaned. Examples include:\n",
    "- Missing Data Points\n",
    "- Invalid Data\n",
    "- Inaccurate Data\n",
    "\n",
    "Run the following code to see what needs to be cleaned"
   ]
  },
  {
   "cell_type": "code",
   "execution_count": 3,
   "metadata": {},
   "outputs": [
    {
     "name": "stdout",
     "output_type": "stream",
     "text": [
      "   Student ID Year in School   GPA\n",
      "0         123             12  3.57\n",
      "1         246             10  4.00\n",
      "2         578             12  2.78\n",
      "3         469             11  3.45\n",
      "4         324         Junior  4.75\n",
      "5         313             20  3.33\n",
      "6         145             12  2.95\n",
      "7         167             10  3.90\n",
      "8         235      9th Grade  3.15\n",
      "9         nil              9  2.80\n",
      "10        469             11  3.45\n",
      "11        456             10  2.75\n"
     ]
    }
   ],
   "source": [
    "import pandas as pd\n",
    "# reads the JSON file and converts it to a Pandas DataFrame\n",
    "df = pd.read_json('files/grade.json')\n",
    "\n",
    "print(df)\n",
    "# What part of the data set needs to be cleaned?\n",
    "# a few values in the school year, \"Junior\" and \"9th Grade\". one student ID also isn't valid, it's value is \"nil\". \n",
    "# From PBL learning, what is a good time to clean data?  Hint, remember Garbage in, Garbage out?\n",
    "# A good time to clean data is when getting an input. If you never let garbage get into the database then you never have to worry about garbage in the database."
   ]
  },
  {
   "attachments": {},
   "cell_type": "markdown",
   "metadata": {},
   "source": [
    "# Extracting Info\n",
    "\n",
    "Take a look at some features that the Pandas library has that extracts info from the dataset"
   ]
  },
  {
   "attachments": {},
   "cell_type": "markdown",
   "metadata": {},
   "source": [
    "## DataFrame Extract Column"
   ]
  },
  {
   "cell_type": "code",
   "execution_count": 4,
   "metadata": {},
   "outputs": [
    {
     "name": "stdout",
     "output_type": "stream",
     "text": [
      "     GPA\n",
      "0   3.57\n",
      "1   4.00\n",
      "2   2.78\n",
      "3   3.45\n",
      "4   4.75\n",
      "5   3.33\n",
      "6   2.95\n",
      "7   3.90\n",
      "8   3.15\n",
      "9   2.80\n",
      "10  3.45\n",
      "11  2.75\n",
      "\n",
      "   Student ID   GPA\n",
      "0         123  3.57\n",
      "1         246  4.00\n",
      "2         578  2.78\n",
      "3         469  3.45\n",
      "4         324  4.75\n",
      "5         313  3.33\n",
      "6         145  2.95\n",
      "7         167  3.90\n",
      "8         235  3.15\n",
      "9         nil  2.80\n",
      "10        469  3.45\n",
      "11        456  2.75\n",
      "   Student ID   GPA\n",
      "0         123  3.57\n",
      "1         246  4.00\n",
      "2         578  2.78\n",
      "3         469  3.45\n",
      "4         324  4.75\n",
      "5         313  3.33\n",
      "6         145  2.95\n",
      "7         167  3.90\n",
      "8         235  3.15\n",
      "9         nil  2.80\n",
      "10        469  3.45\n",
      "11        456  2.75\n"
     ]
    }
   ],
   "source": [
    "#print the values in the points column with column header\n",
    "print(df[['GPA']])\n",
    "\n",
    "print()\n",
    "\n",
    "#try two columns and remove the index from print statement\n",
    "print(df[['Student ID','GPA']].to_string(index=True))\n",
    "print(df[['Student ID','GPA']])"
   ]
  },
  {
   "attachments": {},
   "cell_type": "markdown",
   "metadata": {},
   "source": [
    "## DataFrame Sort"
   ]
  },
  {
   "cell_type": "code",
   "execution_count": 5,
   "metadata": {},
   "outputs": [
    {
     "name": "stdout",
     "output_type": "stream",
     "text": [
      "   Student ID Year in School   GPA\n",
      "11        456             10  2.75\n",
      "2         578             12  2.78\n",
      "9         nil              9  2.80\n",
      "6         145             12  2.95\n",
      "8         235      9th Grade  3.15\n",
      "5         313             20  3.33\n",
      "3         469             11  3.45\n",
      "10        469             11  3.45\n",
      "0         123             12  3.57\n",
      "7         167             10  3.90\n",
      "1         246             10  4.00\n",
      "4         324         Junior  4.75\n",
      "\n",
      "   Student ID Year in School   GPA\n",
      "4         324         Junior  4.75\n",
      "1         246             10  4.00\n",
      "7         167             10  3.90\n",
      "0         123             12  3.57\n",
      "3         469             11  3.45\n",
      "10        469             11  3.45\n",
      "5         313             20  3.33\n",
      "8         235      9th Grade  3.15\n",
      "6         145             12  2.95\n",
      "9         nil              9  2.80\n",
      "2         578             12  2.78\n",
      "11        456             10  2.75\n"
     ]
    }
   ],
   "source": [
    "#sort values\n",
    "print(df.sort_values(by=['GPA']))\n",
    "\n",
    "print()\n",
    "\n",
    "#sort the values in reverse order\n",
    "print(df.sort_values(by=['GPA'], ascending=False))"
   ]
  },
  {
   "attachments": {},
   "cell_type": "markdown",
   "metadata": {},
   "source": [
    "## DataFrame Selection or Filter"
   ]
  },
  {
   "cell_type": "code",
   "execution_count": 6,
   "metadata": {},
   "outputs": [
    {
     "name": "stdout",
     "output_type": "stream",
     "text": [
      "0     3.57\n",
      "1     4.00\n",
      "2     2.78\n",
      "3     3.45\n",
      "4     4.75\n",
      "5     3.33\n",
      "6     2.95\n",
      "7     3.90\n",
      "8     3.15\n",
      "9     2.80\n",
      "10    3.45\n",
      "11    2.75\n",
      "Name: GPA, dtype: float64\n",
      "     GPA\n",
      "0   3.57\n",
      "1   4.00\n",
      "2   2.78\n",
      "3   3.45\n",
      "4   4.75\n",
      "5   3.33\n",
      "6   2.95\n",
      "7   3.90\n",
      "8   3.15\n",
      "9   2.80\n",
      "10  3.45\n",
      "11  2.75\n",
      "   Student ID Year in School   GPA\n",
      "0         123             12  3.57\n",
      "1         246             10  4.00\n",
      "3         469             11  3.45\n",
      "4         324         Junior  4.75\n",
      "5         313             20  3.33\n",
      "7         167             10  3.90\n",
      "8         235      9th Grade  3.15\n",
      "10        469             11  3.45\n"
     ]
    }
   ],
   "source": [
    "#print only values with a specific criteria \n",
    "print(df.GPA)\n",
    "print(df[[\"GPA\"]])\n",
    "print(df[df.GPA > 3.00])"
   ]
  },
  {
   "attachments": {},
   "cell_type": "markdown",
   "metadata": {},
   "source": [
    "## DataFrame Selection Max and Min"
   ]
  },
  {
   "cell_type": "code",
   "execution_count": 7,
   "metadata": {},
   "outputs": [
    {
     "name": "stdout",
     "output_type": "stream",
     "text": [
      "  Student ID Year in School   GPA\n",
      "4        324         Junior  4.75\n",
      "\n",
      "   Student ID Year in School   GPA\n",
      "11        456             10  2.75\n",
      "\n"
     ]
    }
   ],
   "source": [
    "print(df[df.GPA == df.GPA.max()])\n",
    "print()\n",
    "print(df[df.GPA == df.GPA.min()])\n",
    "print()\n"
   ]
  },
  {
   "attachments": {},
   "cell_type": "markdown",
   "metadata": {},
   "source": [
    "# Create your own DataFrame\n",
    "\n",
    "Using Pandas allows you to create your own DataFrame in Python."
   ]
  },
  {
   "cell_type": "code",
   "execution_count": 47,
   "metadata": {},
   "outputs": [
    {
     "name": "stdout",
     "output_type": "stream",
     "text": [
      "             name Coolness  Awesomness            badness\n",
      "0            Dash       10           5               3.57\n",
      "1     Aiden Huynh       50         100  9.6 lipbite emoji\n",
      "2    Aiden Leeder        0           3               2.78\n",
      "3   Bailey Leeder        1          14               3.45\n",
      "4          Nathan        4           6               4.75\n",
      "5          Austin        5          13               3.33\n",
      "6           Gavin        8           7               2.95\n",
      "7            Mort        7           8                3.9\n",
      "8            Pham        2           3               3.15\n",
      "9      [Redacted]      nil           9                2.8\n",
      "10           Toby       11          15               3.45\n",
      "11         Trains        8           1               2.75\n"
     ]
    }
   ],
   "source": [
    "import pandas as pd\n",
    "\n",
    "database = pd.read_json(\"files/test.json\")\n",
    "\n",
    "print(database)"
   ]
  },
  {
   "attachments": {},
   "cell_type": "markdown",
   "metadata": {},
   "source": [
    "## Python Dictionary to Pandas DataFrame"
   ]
  },
  {
   "cell_type": "code",
   "execution_count": 8,
   "metadata": {},
   "outputs": [
    {
     "name": "stdout",
     "output_type": "stream",
     "text": [
      "-------------Dict_to_DF------------------\n",
      "   calories  duration\n",
      "0       420        50\n",
      "1       380        40\n",
      "2       390        45\n",
      "----------Dict_to_DF_labels--------------\n",
      "      calories  duration\n",
      "day1       420        50\n",
      "day2       380        40\n",
      "day3       390        45\n"
     ]
    }
   ],
   "source": [
    "import pandas as pd\n",
    "\n",
    "#the data can be stored as a python dictionary\n",
    "dict = {\n",
    "  \"calories\": [420, 380, 390],\n",
    "  \"duration\": [50, 40, 45]\n",
    "}\n",
    "#stores the data in a data frame\n",
    "print(\"-------------Dict_to_DF------------------\")\n",
    "df = pd.DataFrame(dict)\n",
    "print(df)\n",
    "\n",
    "print(\"----------Dict_to_DF_labels--------------\")\n",
    "\n",
    "#or with the index argument, you can label rows.\n",
    "df = pd.DataFrame(dict, index = [\"day1\", \"day2\", \"day3\"])\n",
    "print(df)"
   ]
  },
  {
   "attachments": {},
   "cell_type": "markdown",
   "metadata": {},
   "source": [
    "## Examine DataFrame Rows"
   ]
  },
  {
   "cell_type": "code",
   "execution_count": 9,
   "metadata": {},
   "outputs": [
    {
     "name": "stdout",
     "output_type": "stream",
     "text": [
      "-------Examine Selected Rows---------\n",
      "      calories  duration\n",
      "day1       420        50\n",
      "day3       390        45\n",
      "--------Examine Single Row-----------\n",
      "calories    420\n",
      "duration     50\n",
      "Name: day1, dtype: int64\n",
      "\n"
     ]
    }
   ],
   "source": [
    "print(\"-------Examine Selected Rows---------\")\n",
    "#use a list for multiple labels:\n",
    "print(df.loc[[\"day1\", \"day3\"]])\n",
    "\n",
    "#refer to the row index:\n",
    "print(\"--------Examine Single Row-----------\")\n",
    "print(df.loc[\"day1\"])\n",
    "print()\n"
   ]
  },
  {
   "attachments": {},
   "cell_type": "markdown",
   "metadata": {},
   "source": [
    "## Pandas DataFrame Information"
   ]
  },
  {
   "cell_type": "code",
   "execution_count": 10,
   "metadata": {},
   "outputs": [
    {
     "name": "stdout",
     "output_type": "stream",
     "text": [
      "<class 'pandas.core.frame.DataFrame'>\n",
      "Index: 3 entries, day1 to day3\n",
      "Data columns (total 2 columns):\n",
      " #   Column    Non-Null Count  Dtype\n",
      "---  ------    --------------  -----\n",
      " 0   calories  3 non-null      int64\n",
      " 1   duration  3 non-null      int64\n",
      "dtypes: int64(2)\n",
      "memory usage: 180.0+ bytes\n",
      "None\n"
     ]
    }
   ],
   "source": [
    "#print info about the data set\n",
    "print(df.info())"
   ]
  },
  {
   "attachments": {},
   "cell_type": "markdown",
   "metadata": {},
   "source": [
    "# Example of larger data set\n",
    "\n",
    "Pandas can read CSV and many other types of files, run the following code to see more features with a larger data set"
   ]
  },
  {
   "cell_type": "code",
   "execution_count": 11,
   "metadata": {},
   "outputs": [
    {
     "name": "stdout",
     "output_type": "stream",
     "text": [
      "--Duration Top 10---------\n",
      "     Duration  Pulse  Maxpulse  Calories\n",
      "69        300    108       143    1500.2\n",
      "79        270    100       131    1729.0\n",
      "109       210    137       184    1860.4\n",
      "60        210    108       160    1376.0\n",
      "106       180     90       120     800.3\n",
      "90        180    101       127     600.1\n",
      "65        180     90       130     800.4\n",
      "61        160    110       137    1034.4\n",
      "62        160    109       135     853.0\n",
      "67        150    107       130     816.0\n",
      "--Duration Bottom 10------\n",
      "     Duration  Pulse  Maxpulse  Calories\n",
      "68         20    106       136     110.4\n",
      "100        20     95       112      77.7\n",
      "89         20     83       107      50.3\n",
      "135        20    136       156     189.0\n",
      "94         20    150       171     127.4\n",
      "95         20    151       168     229.4\n",
      "139        20    141       162     222.4\n",
      "64         20    110       130     131.4\n",
      "112        15    124       139     124.2\n",
      "93         15     80       100      50.5\n",
      "Number of rows and columns\n",
      "Rows 169\n",
      "Columns 4\n"
     ]
    }
   ],
   "source": [
    "import pandas as pd\n",
    "\n",
    "#read csv and sort 'Duration' largest to smallest\n",
    "df = pd.read_csv('files/data.csv').sort_values(by=['Duration'], ascending=False)\n",
    "\n",
    "print(\"--Duration Top 10---------\")\n",
    "print(df.head(10))\n",
    "\n",
    "print(\"--Duration Bottom 10------\")\n",
    "print(df.tail(10))\n",
    "\n",
    "print(\"Number of rows and columns\")\n",
    "print(\"Rows\", len(df.axes[0]))\n",
    "print(\"Columns\", len(df.axes[1]))\n",
    "\n"
   ]
  },
  {
   "attachments": {},
   "cell_type": "markdown",
   "metadata": {},
   "source": [
    "# APIs are a Source for Writing Programs with Data\n",
    "> 3rd Party APIs are a great source for creating Pandas Data Frames.  \n",
    "- Data can be fetched and resulting json can be placed into a Data Frame\n",
    "- Observe output, this looks very similar to a Database"
   ]
  },
  {
   "cell_type": "code",
   "execution_count": 12,
   "metadata": {},
   "outputs": [
    {
     "name": "stdout",
     "output_type": "stream",
     "text": [
      "  country_name       cases     deaths\n",
      "0          USA  82,649,779  1,018,316\n",
      "1        India  43,057,545    522,193\n",
      "2       Brazil  30,345,654    662,663\n",
      "3       France  28,244,977    145,020\n",
      "4      Germany  24,109,433    134,624\n",
      "5           UK  21,933,206    173,352\n"
     ]
    }
   ],
   "source": [
    "'''Pandas can be used to analyze data'''\n",
    "import pandas as pd\n",
    "import requests\n",
    "\n",
    "def fetch():\n",
    "    '''Obtain data from an endpoint'''\n",
    "    url = \"https://flask.nighthawkcodingsociety.com/api/covid/\"\n",
    "    fetch = requests.get(url)\n",
    "    json = fetch.json()\n",
    "\n",
    "    # filter data for requirement\n",
    "    df = pd.DataFrame(json['countries_stat'])  # filter endpoint for country stats\n",
    "    print(df.loc[0:5, 'country_name':'deaths']) # show row 0 through 5 and columns country_name through deaths\n",
    "    \n",
    "fetch()"
   ]
  },
  {
   "attachments": {},
   "cell_type": "markdown",
   "metadata": {},
   "source": [
    "# Hacks\n",
    "> Early Seed award\n",
    "- Add this Blog to you own Blogging site.\n",
    "- Have all lecture files saved to your files directory before Tech Talk starts. Have data.csv open in vscode. Don't tell anyone. Show to Teacher.\n",
    "\n",
    "> AP Prep\n",
    "- Add this Blog to you own Blogging site.  In the Blog add notes and observations on each code cell.\n",
    "- In blog add College Board practice problems for 2.3.\n",
    "\n",
    "> The next 4 weeks, Teachers want you to improve your understanding of data.  Look at the blog and others on Unit 2.  Your intention is to find some things to differentiate your individual College Board project.\n",
    "\n",
    "- Create or Find your own dataset.  The suggestion is to use a JSON file, integrating with your PBL project would be ***Amazing***.\n",
    "\n",
    "- When choosing a data set, think about the following...\n",
    "\n",
    "    - Does it have a good sample size?\n",
    "    - Is there bias in the data?\n",
    "    - Does the data set need to be cleaned?\n",
    "    - What is the purpose of the data set?\n",
    "    - ...\n",
    "\n",
    "- Continue this Blog using Pandas extract info from that dataset (ex. max, min, mean, median, mode, etc.)\n",
    "\n",
    "## Hack Helpers\n",
    "> Here is how Mort started on this assignment by asking ChatGPT  ... Regarding Python Pandas, what are some data sets that would be good for learning Pandas?\n",
    "\n",
    "- There are many data sets that are suitable for learning pandas, depending on your interests and the skills you want to develop. \n",
    "\n",
    "    Here are some suggestions...\n",
    "\n",
    "    - Titanic Dataset: This is a classic dataset for data analysis and machine learning, and is often used as an introduction to pandas. The dataset contains information about passengers on the Titanic, including their demographics, ticket class, and survival status.\n",
    "\n",
    "    - Iris Dataset: This is another classic dataset that is often used in machine learning and data analysis courses. The dataset contains information about iris flowers, including their sepal length, sepal width, petal length, and petal width.\n",
    "\n",
    "    - NBA Player Stats: This dataset contains information about NBA players, including their stats for various games, their positions, and their salaries. It is a great dataset for learning how to clean and manipulate data using pandas.\n",
    "\n",
    "    - Housing Prices Dataset: This dataset contains information about housing prices in a particular city or region, including variables such as the number of bedrooms, square footage, and price. It is a great dataset for learning how to manipulate and analyze numerical data using pandas.\n",
    "\n",
    "    - COVID-19 Dataset: This dataset contains information about the COVID-19 pandemic, including the number of cases, deaths, and recoveries in various countries and regions. It is a great dataset for learning how to manipulate and analyze time-series data using pandas.\n",
    "\n",
    "    - World Bank Dataset: This dataset contains information about economic indicators from various countries, such as GDP, population, and poverty rates. It is a great dataset for learning how to manipulate and analyze large datasets using pandas.\n",
    "\n",
    "\n",
    "- These are just a few examples of the many datasets that are suitable for learning pandas. The best dataset for you will depend on your interests and the specific skills you want to develop.\n",
    "\n",
    "\n",
    "> Follow up question, \"where can I find Titanic data set?\"\n",
    "\n",
    "- The Titanic dataset is a popular dataset for data analysis and machine learning, and it can be found on various websites and data repositories. Here are a few places where you can find the Titanic dataset...\n",
    "\n",
    "    - Kaggle: The Titanic dataset is available on Kaggle, which is a popular platform for data scientists and machine learning enthusiasts. You can download the dataset from the Kaggle website after creating an account.\n",
    "\n",
    "    - UCI Machine Learning Repository: The Titanic dataset is also available on the UCI Machine Learning Repository, which is a collection of datasets that are commonly used for machine learning research. You can download the dataset from the UCI Machine Learning Repository website.\n",
    "\n",
    "    - Seaborn library: If you have the Seaborn library installed in your Python environment, you can load the Titanic dataset directly from the library using the following code:\n",
    "\n",
    "    ```python\n",
    "    import seaborn as sns\n",
    "    titanic_data = sns.load_dataset('titanic')\n",
    "    ```"
   ]
  },
  {
   "cell_type": "code",
   "execution_count": 28,
   "metadata": {},
   "outputs": [
    {
     "name": "stdout",
     "output_type": "stream",
     "text": [
      "files/Minecraft_Composting_v2/Cookie_v2.csv\n",
      "files/Minecraft_Composting_v2/Sugarcane_v2.csv\n",
      "files/Minecraft_Composting_v2/Wheatseed_v2.csv\n",
      "files/Minecraft_Composting_v2/Carrot_v2.csv\n",
      "files/Minecraft_Composting_v2/Apple_v2.csv\n",
      "files/Minecraft_Composting_v2/Wheat_v2.csv\n",
      "files/Minecraft_Composting_v2/Oaksapling_v2.csv\n",
      "files/Minecraft_Composting_v2/Melonseed_v2.csv\n",
      "files/Minecraft_Composting_v2/Potato_v2.csv\n",
      "files/Minecraft_Composting_v2/Oakleaf_v2.csv\n",
      "files/Minecraft_Composting_v2/Melon_v2.csv\n",
      "files/Minecraft_Composting_v2/Cactus_v2.csv\n",
      "files/Minecraft_Composting_v2/Radish_v2.csv\n",
      "files/Minecraft_Composting_v2/Pumpkin_v2.csv\n",
      "files/Minecraft_Composting_v2/Pumpkinseed_v2.csv\n",
      "files/Minecraft_Composting_v2/Radishseed_v2.csv\n"
     ]
    }
   ],
   "source": [
    "# import required module\n",
    "import os\n",
    "# assign directory\n",
    "directory = 'files/Minecraft_Composting_v2/'\n",
    " \n",
    "# iterate over files in\n",
    "# that directory\n",
    "for filename in os.listdir(directory):\n",
    "    f = os.path.join(directory, filename)\n",
    "    # checking if it is a file\n",
    "    if os.path.isfile(f):\n",
    "        print(f)"
   ]
  },
  {
   "cell_type": "code",
   "execution_count": 57,
   "metadata": {},
   "outputs": [
    {
     "name": "stdout",
     "output_type": "stream",
     "text": [
      "   Cookie  Sugarcane  Wheatseed  Carrot  Apple  Wheat  Oaksapling  Melonseed  \\\n",
      "0       7         12         17       9      9      9          19         17   \n",
      "\n",
      "   Potato  Oakleaf  Melon  Cactus  Radish  Pumpkin  Pumpkinseed  Radishseed  \n",
      "0       9       18      9      12       9        9           19          20  \n",
      "Mean\n",
      "Cookie          8.034667\n",
      "Sugarcane      13.171667\n",
      "Wheatseed      20.797333\n",
      "Carrot         10.278000\n",
      "Apple          10.243333\n",
      "Wheat          10.243333\n",
      "Oaksapling     21.064667\n",
      "Melonseed      21.052333\n",
      "Potato         10.229000\n",
      "Oakleaf        20.938667\n",
      "Melon          10.302667\n",
      "Cactus         13.007333\n",
      "Radish         10.218333\n",
      "Pumpkin        10.233333\n",
      "Pumpkinseed    21.133000\n",
      "Radishseed     20.860000\n",
      "dtype: float64\n",
      "Median:\n",
      "Cookie          8.0\n",
      "Sugarcane      13.0\n",
      "Wheatseed      20.0\n",
      "Carrot         10.0\n",
      "Apple          10.0\n",
      "Wheat          10.0\n",
      "Oaksapling     20.0\n",
      "Melonseed      20.0\n",
      "Potato         10.0\n",
      "Oakleaf        20.0\n",
      "Melon          10.0\n",
      "Cactus         12.0\n",
      "Radish         10.0\n",
      "Pumpkin        10.0\n",
      "Pumpkinseed    20.0\n",
      "Radishseed     20.0\n",
      "dtype: float64\n",
      "Max\n",
      "Cookie         15\n",
      "Sugarcane      41\n",
      "Wheatseed      50\n",
      "Carrot         22\n",
      "Apple          21\n",
      "Wheat          22\n",
      "Oaksapling     56\n",
      "Melonseed      55\n",
      "Potato         21\n",
      "Oakleaf        57\n",
      "Melon          22\n",
      "Cactus         28\n",
      "Radish         23\n",
      "Pumpkin        21\n",
      "Pumpkinseed    73\n",
      "Radishseed     52\n",
      "dtype: int64\n",
      "      Cookie  Sugarcane  Wheatseed  Carrot  Apple  Wheat  Oaksapling  \\\n",
      "885        7         10         15       9     10     10          56   \n",
      "590        8         17         18      10     14     13          53   \n",
      "2842       8          8         35       8     10      9          53   \n",
      "102        8         10          9       8      9      7          50   \n",
      "467        8         17         27       7      9      8          50   \n",
      "...      ...        ...        ...     ...    ...    ...         ...   \n",
      "512        9         11         14      18     11     14           8   \n",
      "415        7         12         22       8     11     11           8   \n",
      "1349       8         15         29       9     10     12           8   \n",
      "2638       7         10         16      10     13     15           7   \n",
      "640        9         14         20      13      7      9           7   \n",
      "\n",
      "      Melonseed  Potato  Oakleaf  Melon  Cactus  Radish  Pumpkin  Pumpkinseed  \\\n",
      "885          33       9       27     10      13      10       11           17   \n",
      "590          21       9       12      9      15       9        8           20   \n",
      "2842         32      11       38     10      13      10        8           26   \n",
      "102          22      10       24     13      12      10        8           16   \n",
      "467          18       8       19      7      11      10        9           18   \n",
      "...         ...     ...      ...    ...     ...     ...      ...          ...   \n",
      "512          14      11       15      7      14      10        9           23   \n",
      "415          18      10       28      8      13      15       14           11   \n",
      "1349         32      10       23      9      10      13       11           15   \n",
      "2638         24       7       31     11      10      10       11           15   \n",
      "640          21      11       15      9      11      11       10           19   \n",
      "\n",
      "      Radishseed  \n",
      "885           21  \n",
      "590           26  \n",
      "2842          17  \n",
      "102           17  \n",
      "467           17  \n",
      "...          ...  \n",
      "512           24  \n",
      "415           18  \n",
      "1349          13  \n",
      "2638          22  \n",
      "640           19  \n",
      "\n",
      "[3000 rows x 16 columns]\n"
     ]
    }
   ],
   "source": [
    "import pandas as pd\n",
    "import os\n",
    "\n",
    "minecraft = pd.DataFrame()\n",
    "directory = 'files/Minecraft_Composting_v2/'\n",
    "for filename in os.listdir(directory):\n",
    "    f = os.path.join(directory, filename)\n",
    "    if os.path.isfile(f):\n",
    "        minecraft[f[30:29 + f[29:].find(\"_\")]] = pd.read_csv(f)\n",
    "\n",
    "\n",
    "\n",
    "# print(minecraft)\n",
    "print(minecraft.mode())\n",
    "print(\"Mean\")\n",
    "print(minecraft.mean())\n",
    "print(\"Median:\")\n",
    "print(minecraft.median())\n",
    "print(\"Max\")\n",
    "print(minecraft.max())\n",
    "column = input(\"What column would you like to sort by?\")\n",
    "ascension = input(\"would you like it in ascending or descending order? (y/n)\")\n",
    "check = lambda ascension : True if ascension == 'y' else False\n",
    "print(minecraft.sort_values(by=[column], ascending=(check(ascension))))"
   ]
  },
  {
   "cell_type": "code",
   "execution_count": 15,
   "metadata": {},
   "outputs": [
    {
     "name": "stdout",
     "output_type": "stream",
     "text": [
      "                                      _id  approvalfy board_approval_month  \\\n",
      "92   {'$oid': '52b213b38594d8a2be17c7dc'}        2013                 July   \n",
      "138  {'$oid': '52b213b38594d8a2be17c80a'}        2013                 June   \n",
      "176  {'$oid': '52b213b38594d8a2be17c830'}        2013                  May   \n",
      "202  {'$oid': '52b213b38594d8a2be17c84a'}        2013                  May   \n",
      "210  {'$oid': '52b213b38594d8a2be17c852'}        2013                  May   \n",
      "212  {'$oid': '52b213b38594d8a2be17c854'}        2013                  May   \n",
      "232  {'$oid': '52b213b38594d8a2be17c868'}        2013                April   \n",
      "247  {'$oid': '52b213b38594d8a2be17c877'}        2013                March   \n",
      "299  {'$oid': '52b213b38594d8a2be17c8ab'}        2013                March   \n",
      "300  {'$oid': '52b213b38594d8a2be17c8ac'}        2013                March   \n",
      "364  {'$oid': '52b213b38594d8a2be17c8ec'}        2013             December   \n",
      "377  {'$oid': '52b213b38594d8a2be17c8f9'}        2013             December   \n",
      "395  {'$oid': '52b213b38594d8a2be17c90b'}        2013             November   \n",
      "396  {'$oid': '52b213b38594d8a2be17c90c'}        2013             November   \n",
      "397  {'$oid': '52b213b38594d8a2be17c90d'}        2013             November   \n",
      "398  {'$oid': '52b213b38594d8a2be17c90e'}        2013             November   \n",
      "445  {'$oid': '52b213b38594d8a2be17c93d'}        2013              October   \n",
      "475  {'$oid': '52b213b38594d8a2be17c95b'}        2013            September   \n",
      "498  {'$oid': '52b213b38594d8a2be17c972'}        2013               August   \n",
      "\n",
      "        boardapprovaldate                                  borrower  \\\n",
      "92   2013-07-08T00:00:00Z                     REPUBLIC OF INDONESIA   \n",
      "138  2013-06-13T00:00:00Z                   GOVERNMENT OF INDONESIA   \n",
      "176  2013-05-24T00:00:00Z                    TBD (TO BE DETERMINED)   \n",
      "202  2013-05-10T00:00:00Z                    TBD (TO BE DETERMINED)   \n",
      "210  2013-05-07T00:00:00Z                   GOVERNMENT OF INDONESIA   \n",
      "212  2013-05-02T00:00:00Z                   GOVERNMENT OF INDONESIA   \n",
      "232  2013-04-24T00:00:00Z                    TBD (TO BE DETERMINED)   \n",
      "247  2013-03-29T00:00:00Z                     REPUBLIC OF INDONESIA   \n",
      "299  2013-03-04T00:00:00Z                                       NGO   \n",
      "300  2013-03-04T00:00:00Z  DG COMMUNITY AND VILLAGE EMPOWERMENT, MI   \n",
      "364  2012-12-19T00:00:00Z                   GOVERNMENT OF INDONESIA   \n",
      "377  2012-12-11T00:00:00Z                     REPUBLIC OF INDONESIA   \n",
      "395  2012-11-20T00:00:00Z                     REPUBLIC OF INDONESIA   \n",
      "396  2012-11-20T00:00:00Z                     REPUBLIC OF INDONESIA   \n",
      "397  2012-11-20T00:00:00Z                   GOVERNMENT OF INDONESIA   \n",
      "398  2012-11-20T00:00:00Z                     REPUBLIC OF INDONESIA   \n",
      "445  2012-10-05T00:00:00Z                                       NGO   \n",
      "475  2012-09-11T00:00:00Z                   GOVERNMENT OF INDONESIA   \n",
      "498  2012-08-02T00:00:00Z                     REPUBLIC OF INDONESIA   \n",
      "\n",
      "              closingdate            country_namecode countrycode  \\\n",
      "92   2018-12-31T00:00:00Z  Republic of Indonesia!$!ID          ID   \n",
      "138  2015-12-31T00:00:00Z  Republic of Indonesia!$!ID          ID   \n",
      "176                   NaN  Republic of Indonesia!$!ID          ID   \n",
      "202                   NaN  Republic of Indonesia!$!ID          ID   \n",
      "210  2013-12-31T00:00:00Z  Republic of Indonesia!$!ID          ID   \n",
      "212                   NaN  Republic of Indonesia!$!ID          ID   \n",
      "232  2013-12-31T00:00:00Z  Republic of Indonesia!$!ID          ID   \n",
      "247  2020-12-31T00:00:00Z  Republic of Indonesia!$!ID          ID   \n",
      "299  2013-12-31T00:00:00Z  Republic of Indonesia!$!ID          ID   \n",
      "300                   NaN  Republic of Indonesia!$!ID          ID   \n",
      "364  2014-12-31T00:00:00Z  Republic of Indonesia!$!ID          ID   \n",
      "377  2015-12-31T00:00:00Z  Republic of Indonesia!$!ID          ID   \n",
      "395  2013-04-30T00:00:00Z  Republic of Indonesia!$!ID          ID   \n",
      "396  2015-12-31T00:00:00Z  Republic of Indonesia!$!ID          ID   \n",
      "397  2013-04-30T00:00:00Z  Republic of Indonesia!$!ID          ID   \n",
      "398  2013-12-31T00:00:00Z  Republic of Indonesia!$!ID          ID   \n",
      "445  2014-06-30T00:00:00Z  Republic of Indonesia!$!ID          ID   \n",
      "475  2018-03-31T00:00:00Z  Republic of Indonesia!$!ID          ID   \n",
      "498  2017-09-30T00:00:00Z  Republic of Indonesia!$!ID          ID   \n",
      "\n",
      "               countryname countryshortname  ...      sectorcode source  \\\n",
      "92   Republic of Indonesia        Indonesia  ...              LT   IBRD   \n",
      "138  Republic of Indonesia        Indonesia  ...           LS,LC   IBRD   \n",
      "176  Republic of Indonesia        Indonesia  ...              BG   IBRD   \n",
      "202  Republic of Indonesia        Indonesia  ...              JB   IBRD   \n",
      "210  Republic of Indonesia        Indonesia  ...     BH,BC,EP,JA   IBRD   \n",
      "212  Republic of Indonesia        Indonesia  ...  JB,BC,BH,WA,WC   IBRD   \n",
      "232  Republic of Indonesia        Indonesia  ...              EV   IBRD   \n",
      "247  Republic of Indonesia        Indonesia  ...     EZ,BN,EV,ET   IBRD   \n",
      "299  Republic of Indonesia        Indonesia  ...           JB,BH   IBRD   \n",
      "300  Republic of Indonesia        Indonesia  ...              BH   IBRD   \n",
      "364  Republic of Indonesia        Indonesia  ...           BH,BC   IBRD   \n",
      "377  Republic of Indonesia        Indonesia  ...  WZ,TI,JA,EZ,BH   IBRD   \n",
      "395  Republic of Indonesia        Indonesia  ...  LZ,WZ,JA,CT,TZ   IBRD   \n",
      "396  Republic of Indonesia        Indonesia  ...  BH,JB,LZ,WZ,TI   IBRD   \n",
      "397  Republic of Indonesia        Indonesia  ...     BK,JB,BZ,BC   IBRD   \n",
      "398  Republic of Indonesia        Indonesia  ...     FD,FK,FA,FZ   IBRD   \n",
      "445  Republic of Indonesia        Indonesia  ...              EV   IBRD   \n",
      "475  Republic of Indonesia        Indonesia  ...  BO,BH,LZ,TZ,WZ   IBRD   \n",
      "498  Republic of Indonesia        Indonesia  ...        YA,BL,AB   IBRD   \n",
      "\n",
      "     status  supplementprojectflg  \\\n",
      "92   Active                     N   \n",
      "138  Active                     N   \n",
      "176  Active                     N   \n",
      "202  Active                     N   \n",
      "210  Active                     N   \n",
      "212  Active                     Y   \n",
      "232  Active                     N   \n",
      "247  Active                     N   \n",
      "299  Active                     N   \n",
      "300  Active                     N   \n",
      "364  Active                     Y   \n",
      "377  Active                     N   \n",
      "395  Closed                     N   \n",
      "396  Active                     N   \n",
      "397  Closed                     N   \n",
      "398  Closed                     N   \n",
      "445  Active                     N   \n",
      "475  Active                     N   \n",
      "498  Active                     N   \n",
      "\n",
      "                                                theme1  \\\n",
      "92           {'Name': 'Climate change', 'Percent': 10}   \n",
      "138  {'Name': 'Other public sector governance', 'Pe...   \n",
      "176  {'Name': 'Other accountability/anti-corruption...   \n",
      "202  {'Name': 'Participation and civic engagement',...   \n",
      "210       {'Name': 'Education for all', 'Percent': 24}   \n",
      "212  {'Name': 'Participation and civic engagement',...   \n",
      "232  {'Name': 'Participation and civic engagement',...   \n",
      "247  {'Name': 'Education for the knowledge economy'...   \n",
      "299  {'Name': 'Other rural development', 'Percent':...   \n",
      "300  {'Name': 'Other public sector governance', 'Pe...   \n",
      "364  {'Name': 'Vulnerability assessment and monitor...   \n",
      "377  {'Name': 'Participation and civic engagement',...   \n",
      "395  {'Name': 'Infrastructure services for private ...   \n",
      "396  {'Name': 'Other social protection and risk man...   \n",
      "397  {'Name': 'Participation and civic engagement',...   \n",
      "398  {'Name': 'International financial standards an...   \n",
      "445  {'Name': 'Other social development', 'Percent'...   \n",
      "475  {'Name': 'Infrastructure services for private ...   \n",
      "498  {'Name': 'Rural services and infrastructure', ...   \n",
      "\n",
      "                                        theme_namecode       themecode  \\\n",
      "92   [{'name': 'Climate change', 'code': '81'}, {'n...           39,81   \n",
      "138  [{'name': 'Other public sector governance', 'c...              30   \n",
      "176  [{'name': 'Other accountability/anti-corruptio...        35,31,29   \n",
      "202  [{'name': 'Participation and civic engagement'...              57   \n",
      "210  [{'name': 'Education for all', 'code': '65'}, ...  57,63,69,68,65   \n",
      "212  [{'name': 'Participation and civic engagement'...           78,57   \n",
      "232  [{'name': 'Participation and civic engagement'...              57   \n",
      "247  [{'name': 'Education for the knowledge economy...           59,66   \n",
      "299  [{'name': 'Other rural development', 'code': '...           62,79   \n",
      "300  [{'name': 'Other public sector governance', 'c...        29,79,30   \n",
      "364  [{'name': 'Vulnerability assessment and monito...           52,55   \n",
      "377  [{'name': 'Participation and civic engagement'...  78,68,65,77,57   \n",
      "395  [{'name': 'Infrastructure services for private...     78,47,49,39   \n",
      "396  [{'name': 'Other social protection and risk ma...     59,57,41,56   \n",
      "397  [{'name': 'Participation and civic engagement'...  27,53,54,28,57   \n",
      "398  [{'name': 'International financial standards a...     40,41,59,42   \n",
      "445  [{'name': 'Other social development', 'code': ...              62   \n",
      "475  [{'name': 'Infrastructure services for private...           72,39   \n",
      "498  [{'name': 'Rural services and infrastructure',...        77,91,78   \n",
      "\n",
      "      totalamt totalcommamt                                                url  \n",
      "92   325000000    325000000  http://www.worldbank.org/projects/P123994/indo...  \n",
      "138          0      1050000  http://www.worldbank.org/projects/P133729/indo...  \n",
      "176          0      3960000  http://www.worldbank.org/projects/P144386/pnpm...  \n",
      "202          0      1800000  http://www.worldbank.org/projects/P143354/id-t...  \n",
      "210          0     31700000  http://www.worldbank.org/projects/P132585/id-t...  \n",
      "212   99900000     99900000  http://www.worldbank.org/projects/P129486/add-...  \n",
      "232          0       880000  http://www.worldbank.org/projects/P132831/pnpm...  \n",
      "247   95000000     95000000  http://www.worldbank.org/projects/P121842/rese...  \n",
      "299          0      1670000  http://www.worldbank.org/projects/P131815/id-t...  \n",
      "300          0      1650000  http://www.worldbank.org/projects/P132945/id-p...  \n",
      "364          0      2380000  http://www.worldbank.org/projects/P124674?lang=en  \n",
      "377  650000000    650000000  http://www.worldbank.org/projects/P128832/nati...  \n",
      "395  100000000    100000000  http://www.worldbank.org/projects/P124006/firs...  \n",
      "396  266000000    266000000  http://www.worldbank.org/projects/P125405/four...  \n",
      "397  300000000    300000000  http://www.worldbank.org/projects/P126162/inst...  \n",
      "398  100000000    100000000  http://www.worldbank.org/projects/P130150/fina...  \n",
      "445          0      4150000  http://www.worldbank.org/projects/P131387/bare...  \n",
      "475   29600000     29600000  http://www.worldbank.org/projects/P118916/infr...  \n",
      "498   80000000     80000000  http://www.worldbank.org/projects/P117243/sust...  \n",
      "\n",
      "[19 rows x 50 columns]\n",
      "                  countryname\n",
      "0  People's Republic of China\n",
      "1       Republic of Indonesia\n",
      "\n",
      "Int64Index([ 92, 138, 176, 202, 210, 212, 232, 247, 299, 300, 364, 377, 395,\n",
      "            396, 397, 398, 445, 475, 498],\n",
      "           dtype='int64')\n"
     ]
    }
   ],
   "source": [
    "import pandas as pd\n",
    "bank = pd.read_json(\"files/world-bank-projects.json\")\n",
    "\n",
    "\n",
    "print(bank[bank.countryname == \"Republic of Indonesia\"])\n",
    "print(bank[[\"countryname\"]].mode())\n",
    "print()\n",
    "print(bank[bank.countryname == \"Republic of Indonesia\"].axes[0])\n"
   ]
  },
  {
   "cell_type": "code",
   "execution_count": null,
   "metadata": {},
   "outputs": [],
   "source": []
  },
  {
   "attachments": {},
   "cell_type": "markdown",
   "metadata": {},
   "source": [
    "### Titanic Data\n",
    "> Look at a sample of data."
   ]
  },
  {
   "cell_type": "code",
   "execution_count": 24,
   "metadata": {},
   "outputs": [
    {
     "name": "stdout",
     "output_type": "stream",
     "text": [
      "Titanic Data\n",
      "Number of kids on the titanic: 113\n",
      "Number of kids who died on the titanic: 52\n"
     ]
    }
   ],
   "source": [
    "import seaborn as sns\n",
    "\n",
    "# Load the titanic dataset\n",
    "titanic_data = sns.load_dataset('titanic')\n",
    "\n",
    "print(\"Titanic Data\")\n",
    "\n",
    "\n",
    "# print(titanic_data.columns) # titanic data set\n",
    "\n",
    "# print(titanic_data[['survived','pclass', 'sex', 'age', 'sibsp', 'parch', 'class', 'fare', 'embark_town']]) # look at selected columns\n",
    "# and titanic_data.survived == 0\n",
    "print(\"Number of kids on the titanic:\", len(titanic_data[titanic_data.age < 18].axes[0]))\n",
    "child_data = titanic_data[titanic_data.age < 18]\n",
    "\n",
    "print(\"Number of kids who died on the titanic:\", len(child_data[child_data.survived < 1].axes[0]))"
   ]
  },
  {
   "attachments": {},
   "cell_type": "markdown",
   "metadata": {},
   "source": [
    "> Use Pandas to clean the data.  Most analysis, like Machine Learning or even Pandas in general like data to be in standardized format.  This is called 'Training' or 'Cleaning' data."
   ]
  },
  {
   "cell_type": "code",
   "execution_count": 44,
   "metadata": {},
   "outputs": [
    {
     "name": "stdout",
     "output_type": "stream",
     "text": [
      "     survived  pclass  sex   age  sibsp  parch     fare embarked  alone\n",
      "0           0       3    1  22.0      1      0   7.2500        S      0\n",
      "1           1       1    0  38.0      1      0  71.2833        C      0\n",
      "2           1       3    0  26.0      0      0   7.9250        S      1\n",
      "3           1       1    0  35.0      1      0  53.1000        S      0\n",
      "4           0       3    1  35.0      0      0   8.0500        S      1\n",
      "..        ...     ...  ...   ...    ...    ...      ...      ...    ...\n",
      "885         0       3    0  39.0      0      5  29.1250        Q      0\n",
      "886         0       2    1  27.0      0      0  13.0000        S      1\n",
      "887         1       1    0  19.0      0      0  30.0000        S      1\n",
      "889         1       1    1  26.0      0      0  30.0000        C      1\n",
      "890         0       3    1  32.0      0      0   7.7500        Q      1\n",
      "\n",
      "[712 rows x 9 columns]\n",
      "     survived  pclass  sex   age  sibsp  parch     fare embarked  alone  \\\n",
      "0           0       3    1  22.0      1      0   7.2500        S      0   \n",
      "1           1       1    0  38.0      1      0  71.2833        C      0   \n",
      "2           1       3    0  26.0      0      0   7.9250        S      1   \n",
      "3           1       1    0  35.0      1      0  53.1000        S      0   \n",
      "4           0       3    1  35.0      0      0   8.0500        S      1   \n",
      "..        ...     ...  ...   ...    ...    ...      ...      ...    ...   \n",
      "885         0       3    0  39.0      0      5  29.1250        Q      0   \n",
      "886         0       2    1  27.0      0      0  13.0000        S      1   \n",
      "887         1       1    0  19.0      0      0  30.0000        S      1   \n",
      "889         1       1    1  26.0      0      0  30.0000        C      1   \n",
      "890         0       3    1  32.0      0      0   7.7500        Q      1   \n",
      "\n",
      "     embarked_C  embarked_Q  embarked_S  \n",
      "0           0.0         0.0         1.0  \n",
      "1           1.0         0.0         0.0  \n",
      "2           0.0         0.0         1.0  \n",
      "3           0.0         0.0         1.0  \n",
      "4           0.0         0.0         1.0  \n",
      "..          ...         ...         ...  \n",
      "885         NaN         NaN         NaN  \n",
      "886         NaN         NaN         NaN  \n",
      "887         NaN         NaN         NaN  \n",
      "889         NaN         NaN         NaN  \n",
      "890         NaN         NaN         NaN  \n",
      "\n",
      "[712 rows x 12 columns]\n",
      "     survived  pclass  sex   age  sibsp  parch     fare  alone  embarked_C  \\\n",
      "0           0       3    1  22.0      1      0   7.2500      0         0.0   \n",
      "1           1       1    0  38.0      1      0  71.2833      0         1.0   \n",
      "2           1       3    0  26.0      0      0   7.9250      1         0.0   \n",
      "3           1       1    0  35.0      1      0  53.1000      0         0.0   \n",
      "4           0       3    1  35.0      0      0   8.0500      1         0.0   \n",
      "..        ...     ...  ...   ...    ...    ...      ...    ...         ...   \n",
      "885         0       3    0  39.0      0      5  29.1250      0         NaN   \n",
      "886         0       2    1  27.0      0      0  13.0000      1         NaN   \n",
      "887         1       1    0  19.0      0      0  30.0000      1         NaN   \n",
      "889         1       1    1  26.0      0      0  30.0000      1         NaN   \n",
      "890         0       3    1  32.0      0      0   7.7500      1         NaN   \n",
      "\n",
      "     embarked_Q  embarked_S  \n",
      "0           0.0         1.0  \n",
      "1           0.0         0.0  \n",
      "2           0.0         1.0  \n",
      "3           0.0         1.0  \n",
      "4           0.0         1.0  \n",
      "..          ...         ...  \n",
      "885         NaN         NaN  \n",
      "886         NaN         NaN  \n",
      "887         NaN         NaN  \n",
      "889         NaN         NaN  \n",
      "890         NaN         NaN  \n",
      "\n",
      "[712 rows x 11 columns]\n",
      "new table\n"
     ]
    }
   ],
   "source": [
    "\n",
    "import seaborn as sns\n",
    "titanic_data = sns.load_dataset('titanic')\n",
    "\n",
    "# Preprocess the data\n",
    "from sklearn.preprocessing import OneHotEncoder\n",
    "\n",
    "\n",
    "td = titanic_data\n",
    "\n",
    "td.drop(['alive', 'who', 'adult_male', 'class', 'embark_town', 'deck'], axis=1, inplace=True)\n",
    "td.dropna(inplace=True)\n",
    "td['sex'] = td['sex'].apply(lambda x: 1 if x == 'male' else 0)\n",
    "td['alone'] = td['alone'].apply(lambda x: 1 if x == True else 0)\n",
    "\n",
    "# Encode categorical variables\n",
    "print(td)\n",
    "enc = OneHotEncoder(handle_unknown='ignore')\n",
    "enc.fit(td[['embarked']])\n",
    "onehot = enc.transform(td[['embarked']]).toarray()\n",
    "cols = ['embarked_' + val for val in enc.categories_[0]]\n",
    "td[cols] = pd.DataFrame(onehot)\n",
    "td.drop(['embarked'], axis=1, inplace=True)\n",
    "td.dropna(inplace=True)\n",
    "\n",
    "print(\"new table\")\n"
   ]
  },
  {
   "attachments": {},
   "cell_type": "markdown",
   "metadata": {},
   "source": [
    "> The result of 'Training' data is making it easier to analyze or make conclusions.  In looking at the Titanic, as you clean you would probably want to make assumptions on likely chance of survival.\n",
    "\n",
    "This would involve analyzing various factors (such as age, gender, class, etc.) that may have affected a person's chances of survival, and using that information to make predictions about whether an individual would have survived or not. \n",
    "\n",
    "- Data description:\n",
    "    - Survival - Survival (0 = No; 1 = Yes). Not included in test.csv file.\n",
    "    - Pclass - Passenger Class (1 = 1st; 2 = 2nd; 3 = 3rd)\n",
    "    - Name - Name\n",
    "    - Sex - Sex\n",
    "    - Age - Age\n",
    "    - Sibsp - Number of Siblings/Spouses Aboard\n",
    "    - Parch - Number of Parents/Children Aboard\n",
    "    - Ticket - Ticket Number\n",
    "    - Fare - Passenger Fare\n",
    "    - Cabin - Cabin\n",
    "    - Embarked - Port of Embarkation (C = Cherbourg; Q = Queenstown; S = Southampton)\n",
    "\n",
    "- Perished Mean/Average"
   ]
  },
  {
   "cell_type": "code",
   "execution_count": 40,
   "metadata": {},
   "outputs": [
    {
     "name": "stdout",
     "output_type": "stream",
     "text": [
      "survived       0.000000\n",
      "pclass         2.464072\n",
      "sex            0.844311\n",
      "age           31.073353\n",
      "sibsp          0.562874\n",
      "parch          0.398204\n",
      "fare          24.835902\n",
      "alone          0.616766\n",
      "embarked_C     0.185629\n",
      "embarked_Q     0.038922\n",
      "embarked_S     0.775449\n",
      "dtype: float64\n"
     ]
    }
   ],
   "source": [
    "print(titanic_data.query(\"survived == 0\").mean())"
   ]
  },
  {
   "attachments": {},
   "cell_type": "markdown",
   "metadata": {},
   "source": [
    "- Survived Mean/Average"
   ]
  },
  {
   "cell_type": "code",
   "execution_count": 16,
   "metadata": {},
   "outputs": [
    {
     "name": "stdout",
     "output_type": "stream",
     "text": [
      "survived       1.000000\n",
      "pclass         1.878261\n",
      "sex            0.326087\n",
      "age           28.481522\n",
      "sibsp          0.504348\n",
      "parch          0.508696\n",
      "fare          50.188806\n",
      "alone          0.456522\n",
      "embarked_C     0.152174\n",
      "embarked_Q     0.034783\n",
      "embarked_S     0.813043\n",
      "dtype: float64\n"
     ]
    }
   ],
   "source": [
    "print(td.query(\"survived == 1\").mean())"
   ]
  },
  {
   "attachments": {},
   "cell_type": "markdown",
   "metadata": {},
   "source": [
    "> Survived Max and Min Stats"
   ]
  },
  {
   "cell_type": "code",
   "execution_count": 17,
   "metadata": {},
   "outputs": [
    {
     "name": "stdout",
     "output_type": "stream",
     "text": [
      "survived        1.0000\n",
      "pclass          3.0000\n",
      "sex             1.0000\n",
      "age            80.0000\n",
      "sibsp           4.0000\n",
      "parch           5.0000\n",
      "fare          512.3292\n",
      "alone           1.0000\n",
      "embarked_C      1.0000\n",
      "embarked_Q      1.0000\n",
      "embarked_S      1.0000\n",
      "dtype: float64\n",
      "survived      1.00\n",
      "pclass        1.00\n",
      "sex           0.00\n",
      "age           0.75\n",
      "sibsp         0.00\n",
      "parch         0.00\n",
      "fare          0.00\n",
      "alone         0.00\n",
      "embarked_C    0.00\n",
      "embarked_Q    0.00\n",
      "embarked_S    0.00\n",
      "dtype: float64\n"
     ]
    }
   ],
   "source": [
    "print(td.query(\"survived == 1\").max())\n",
    "print(td.query(\"survived == 1\").min())"
   ]
  },
  {
   "attachments": {},
   "cell_type": "markdown",
   "metadata": {},
   "source": [
    "## Machine Learning <a href=\"https://www.tutorialspoint.com/scikit_learn/scikit_learn_introduction.htm#:~:text=Scikit%2Dlearn%20(Sklearn)%20is,a%20consistence%20interface%20in%20Python\">Visit Tutorials Point</a>\n",
    "> Scikit-learn (Sklearn) is the most useful and robust library for machine learning in Python. It provides a selection of efficient tools for machine learning and statistical modeling including classification, regression, clustering and dimensionality reduction via a consistence interface in Python.\n",
    "\n",
    "- Description from ChatGPT. The Titanic dataset is a popular dataset for data analysis and machine learning. In the context of machine learning, accuracy refers to the percentage of correctly classified instances in a set of predictions. In this case, the testing data is a subset of the original Titanic dataset that the decision tree model has not seen during training......After training the decision tree model on the training data, we can evaluate its performance on the testing data by making predictions on the testing data and comparing them to the actual outcomes. The accuracy of the decision tree classifier on the testing data tells us how well the model generalizes to new data that it hasn't seen before......For example, if the accuracy of the decision tree classifier on the testing data is 0.8 (or 80%), this means that 80% of the predictions made by the model on the testing data were correct....Chance of survival could be done using various machine learning techniques, including decision trees, logistic regression, or support vector machines, among others.\n",
    "\n",
    "- Code Below prepares data for further analysis and provides an Accuracy.  IMO, you would insert a new passenger and predict survival.  Datasets could be used on various factors like prediction if a player will hit a Home Run, or a Stock will go up or down.\n",
    "    - [Decision Trees](https://scikit-learn.org/stable/modules/tree.html#tree), prediction by a piecewise constant approximation.\n",
    "    \n",
    "    - [Logistic Regression](https://scikit-learn.org/stable/modules/linear_model.html#logistic-regression), the probabilities describing the possible outcomes."
   ]
  },
  {
   "cell_type": "code",
   "execution_count": 18,
   "metadata": {},
   "outputs": [
    {
     "name": "stdout",
     "output_type": "stream",
     "text": [
      "DecisionTreeClassifier Accuracy: 0.7588235294117647\n",
      "LogisticRegression Accuracy: 0.788235294117647\n"
     ]
    },
    {
     "name": "stderr",
     "output_type": "stream",
     "text": [
      "/Users/tobyleeder/opt/anaconda3/lib/python3.9/site-packages/sklearn/linear_model/_logistic.py:814: ConvergenceWarning: lbfgs failed to converge (status=1):\n",
      "STOP: TOTAL NO. of ITERATIONS REACHED LIMIT.\n",
      "\n",
      "Increase the number of iterations (max_iter) or scale the data as shown in:\n",
      "    https://scikit-learn.org/stable/modules/preprocessing.html\n",
      "Please also refer to the documentation for alternative solver options:\n",
      "    https://scikit-learn.org/stable/modules/linear_model.html#logistic-regression\n",
      "  n_iter_i = _check_optimize_result(\n"
     ]
    }
   ],
   "source": [
    "from sklearn.model_selection import train_test_split\n",
    "from sklearn.tree import DecisionTreeClassifier\n",
    "from sklearn.linear_model import LogisticRegression\n",
    "from sklearn.metrics import accuracy_score\n",
    "\n",
    "# Split arrays or matrices into random train and test subsets.\n",
    "X = td.drop('survived', axis=1)\n",
    "y = td['survived']\n",
    "X_train, X_test, y_train, y_test = train_test_split(X, y, test_size=0.3, random_state=42)\n",
    "\n",
    "# Train a decision tree classifier\n",
    "dt = DecisionTreeClassifier()\n",
    "dt.fit(X_train, y_train)\n",
    "\n",
    "# Test the model\n",
    "y_pred = dt.predict(X_test)\n",
    "accuracy = accuracy_score(y_test, y_pred)\n",
    "print('DecisionTreeClassifier Accuracy:', accuracy)\n",
    "\n",
    "# Train a logistic regression model\n",
    "logreg = LogisticRegression()\n",
    "logreg.fit(X_train, y_train)\n",
    "\n",
    "# Test the model\n",
    "y_pred = logreg.predict(X_test)\n",
    "accuracy = accuracy_score(y_test, y_pred)\n",
    "print('LogisticRegression Accuracy:', accuracy)\n",
    "\n"
   ]
  }
 ],
 "metadata": {
  "kernelspec": {
   "display_name": "base",
   "language": "python",
   "name": "python3"
  },
  "language_info": {
   "codemirror_mode": {
    "name": "ipython",
    "version": 3
   },
   "file_extension": ".py",
   "mimetype": "text/x-python",
   "name": "python",
   "nbconvert_exporter": "python",
   "pygments_lexer": "ipython3",
   "version": "3.9.12"
  },
  "orig_nbformat": 4,
  "vscode": {
   "interpreter": {
    "hash": "65f6bdf080211a4261ca30203f2967d5d410cd9d47d7b7e5694003092334a949"
   }
  }
 },
 "nbformat": 4,
 "nbformat_minor": 2
}
