{
 "cells": [
  {
   "cell_type": "markdown",
   "metadata": {},
   "source": [
    "# Identifying and Correcting Errors\n",
    "> Here are the code segments I fixed in class\n",
    "\n",
    "- layout: base\n",
    "- badges: false\n",
    "- categories: [Week 7]"
   ]
  },
  {
   "cell_type": "markdown",
   "metadata": {},
   "source": [
    "# Here are my fixed code segments"
   ]
  },
  {
   "cell_type": "code",
   "execution_count": 1,
   "metadata": {},
   "outputs": [
    {
     "name": "stdout",
     "output_type": "stream",
     "text": [
      "['a', 'b', 'c', 'd', 'e', 'f', 'g', 'h', 'i', 'j', 'k', 'l', 'm', 'n', 'o', 'p', 'q', 'r', 's', 't', 'u', 'v', 'w', 'x', 'y', 'z']\n"
     ]
    }
   ],
   "source": [
    "#Create a list of the alphabet\n",
    "\n",
    "alphabet = \"abcdefghijklmnopqrstuvwxyz\"\n",
    "\n",
    "alphabetList = []\n",
    "\n",
    "for i in alphabet:\n",
    "    alphabetList.append(i)\n",
    "\n",
    "print(alphabetList)"
   ]
  },
  {
   "cell_type": "code",
   "execution_count": 19,
   "metadata": {},
   "outputs": [
    {
     "name": "stdout",
     "output_type": "stream",
     "text": [
      "The letter s is the 19 letter in the alphabet\n"
     ]
    }
   ],
   "source": [
    "\n",
    "\n",
    "letter = input(\"What letter would you like to check?\")\n",
    "\n",
    "i = 0\n",
    "\n",
    "while i < 26:\n",
    "    if alphabetList[i] == letter:\n",
    "        print(\"The letter \" + letter + \" is the \" + str(i + 1) + \" letter in the alphabet\")\n",
    "    i += 1\n",
    "\n"
   ]
  },
  {
   "cell_type": "code",
   "execution_count": 25,
   "metadata": {},
   "outputs": [
    {
     "name": "stdout",
     "output_type": "stream",
     "text": [
      "The letter a is the 1 letter in the alphabet\n"
     ]
    }
   ],
   "source": [
    "\n",
    "\n",
    "letter = input(\"What letter would you like to check?\")\n",
    "\n",
    "count = 1\n",
    "\n",
    "for i in alphabetList:\n",
    "    if i == letter:\n",
    "        print(\"The letter \" + letter + \" is the \" + str(count) + \" letter in the alphabet\")\n",
    "    count += 1\n",
    "\n"
   ]
  },
  {
   "cell_type": "code",
   "execution_count": 27,
   "metadata": {},
   "outputs": [
    {
     "name": "stdout",
     "output_type": "stream",
     "text": [
      "[1, 3, 5, 7, 9]\n"
     ]
    }
   ],
   "source": [
    "\n",
    "evens = []\n",
    "i = 1\n",
    "\n",
    "while i <= 10:\n",
    "    evens.append(i)\n",
    "    i += 2\n",
    "\n",
    "print(evens)    \n",
    "\n"
   ]
  },
  {
   "cell_type": "code",
   "execution_count": 28,
   "metadata": {},
   "outputs": [
    {
     "name": "stdout",
     "output_type": "stream",
     "text": [
      "[0, 2, 4, 6, 8, 10]\n"
     ]
    }
   ],
   "source": [
    "\n",
    "odds = []\n",
    "i = 0\n",
    "\n",
    "while i <= 10:\n",
    "    odds.append(i)\n",
    "    i += 2\n",
    "\n",
    "print(odds)"
   ]
  },
  {
   "cell_type": "code",
   "execution_count": 29,
   "metadata": {},
   "outputs": [
    {
     "name": "stdout",
     "output_type": "stream",
     "text": [
      "[1, 3, 5, 7, 9]\n"
     ]
    }
   ],
   "source": [
    "\n",
    "numbers = [0,1,2,3,4,5,6,7,8,9,10]\n",
    "evens = []\n",
    "\n",
    "for i in numbers:\n",
    "    if (numbers[i] % 2 == 1):\n",
    "        evens.append(numbers[i])\n",
    "\n",
    "print(evens)\n",
    "\n"
   ]
  },
  {
   "cell_type": "code",
   "execution_count": 30,
   "metadata": {},
   "outputs": [
    {
     "name": "stdout",
     "output_type": "stream",
     "text": [
      "[0, 2, 4, 6, 8, 10]\n"
     ]
    }
   ],
   "source": [
    "\n",
    "numbers = [0,1,2,3,4,5,6,7,8,9,10]\n",
    "odds = []\n",
    "\n",
    "for i in numbers:\n",
    "    if (numbers[i] % 2 == 0):\n",
    "        odds.append(numbers[i])\n",
    "\n",
    "print(odds)"
   ]
  },
  {
   "cell_type": "code",
   "execution_count": 35,
   "metadata": {},
   "outputs": [
    {
     "name": "stdout",
     "output_type": "stream",
     "text": [
      "[0, 2, 4, 5, 6, 8, 10, 12, 14, 15, 16, 18, 20, 22, 24, 25, 26, 28, 30, 32, 34, 35, 36, 38, 40, 42, 44, 45, 46, 48, 50, 52, 54, 55, 56, 58, 60, 62, 64, 65, 66, 68, 70, 72, 74, 75, 76, 78, 80, 82, 84, 85, 86, 88, 90, 92, 94, 95, 96, 98]\n"
     ]
    }
   ],
   "source": [
    "\n",
    "numbers = []\n",
    "newNumbers = []\n",
    "i = 0\n",
    "\n",
    "while i < 100:\n",
    "    numbers.append(i)\n",
    "    i += 1\n",
    "\n",
    "for i in numbers:\n",
    "    if (numbers[i] % 5 == 0 or numbers[i] % 2 == 0):\n",
    "        newNumbers.append(numbers[i])\n",
    "\n",
    "print(newNumbers) \n",
    "\n"
   ]
  },
  {
   "cell_type": "code",
   "execution_count": 1,
   "metadata": {},
   "outputs": [
    {
     "name": "stdout",
     "output_type": "stream",
     "text": [
      "Menu\n",
      "burger  $3.99\n",
      "fries  $1.99\n",
      "drink  $0.99\n",
      "your mom  $69\n",
      "your mother  $420\n",
      "milkshake  $2.99\n",
      "$3.99\n"
     ]
    }
   ],
   "source": [
    "\n",
    "\n",
    "menu =  {\"burger\": 3.99,\n",
    "         \"fries\": 1.99,\n",
    "         \"drink\": 0.99,\n",
    "         \"your mom\": 69,\n",
    "         \"your mother\": 420,\n",
    "         \"milkshake\": 2.99}\n",
    "total = 0\n",
    "more = 1\n",
    "\n",
    "#shows the user the menu and prompts them to select an item\n",
    "print(\"Menu\")\n",
    "for k,v in menu.items():\n",
    "    print(k + \"  $\" + str(v)) #why does v have \"str\" in front of it?\n",
    "\n",
    "#ideally the code should prompt the user multiple times\n",
    "def newItem(total):\n",
    "    m = 1\n",
    "    addTo = 0\n",
    "    item = input(\"Please select an item from the menu\").lower()\n",
    "    while (m == 1):\n",
    "        for i in menu.keys():\n",
    "            if item == i:\n",
    "                addTo = menu.get(item)\n",
    "        if addTo != 0:\n",
    "            return addTo\n",
    "        else:\n",
    "            item = input(\"Please only use items from the menu. Re-enter your selection\").lower()\n",
    "        \n",
    "\n",
    "total += newItem(total)\n",
    "\n",
    "while (more == 1):\n",
    "    q = input(\"Would you like to order more?\").lower()\n",
    "    if q == \"yes\" or q == \"Yes\" or q == \"y\" or q == \"yeah\" or q == \"Yeah\" or q == \"Y\":\n",
    "        total += newItem(total)\n",
    "    elif q == \"no\" or q == \"No\" or q == \"N\" or q == \"n\" or q == \"nah\" or q == \"Nah\":\n",
    "        more = 0\n",
    "    else:\n",
    "        print(\"Please only use yes or no\")\n",
    "\n",
    "\n",
    "\n",
    "#code should add the price of the menu items selected by the user \n",
    "print(\"$\" + str(total))"
   ]
  }
 ],
 "metadata": {
  "kernelspec": {
   "display_name": "Python 3.10.6 64-bit",
   "language": "python",
   "name": "python3"
  },
  "language_info": {
   "codemirror_mode": {
    "name": "ipython",
    "version": 3
   },
   "file_extension": ".py",
   "mimetype": "text/x-python",
   "name": "python",
   "nbconvert_exporter": "python",
   "pygments_lexer": "ipython3",
   "version": "3.10.6"
  },
  "orig_nbformat": 4,
  "vscode": {
   "interpreter": {
    "hash": "aee8b7b246df8f9039afb4144a1f6fd8d2ca17a180786b69acc140d282b71a49"
   }
  }
 },
 "nbformat": 4,
 "nbformat_minor": 2
}
