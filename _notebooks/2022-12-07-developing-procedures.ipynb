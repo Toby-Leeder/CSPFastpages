{
 "cells": [
  {
   "attachments": {},
   "cell_type": "markdown",
   "metadata": {},
   "source": [
    "# Unit 3 Sections 12 and 13 lesson\n",
    "> Developing and Writing Procedures Lesson\n",
    "\n",
    "- title: Unit 3 Sections 12-13\n",
    "- toc: false\n",
    "- badges: false\n",
    "- permalink: /lesson6\n",
    "- categories: [lessons]"
   ]
  },
  {
   "attachments": {},
   "cell_type": "markdown",
   "metadata": {},
   "source": [
    "{% include nav_lessons.html %}\n",
    "\n",
    "## Calling Procedures\n",
    "\n",
    "Slide 1:\n",
    "- A procedure is a named group of programming instructions that may have parameters and return values.\n",
    "- Procedures are referred to by different names, such as methods or functions, depending on the programing language.\n",
    "- Parameters are input values of a procedure. Arguments specify the values of the parameters when procedure is called.\n",
    "- A procedure call interrupts the sequential execution of statements causing the program to execute the statements within the procedure before continuing. One the last statement in the procedure (or a return statement) has executed, flow or control is returned to the point immediately following where the procedure was called.\n",
    "\n",
    "Slide 2:\n",
    "- When calling procedures, it's important to take notice to whether it returns data, or a block of statements.\n",
    "- If the procedure just returns a block of statements, you call the procedure by referring to the procedure name, and inputing the arguments.\n",
    "- If the procedure returns some sort of data like a boolean or value, then you will assign that value to a variable\n",
    "\n",
    "Slide 3:\n",
    "\n",
    "- Assume the Temperature outside is Fahrenheit. \n",
    "- The procedure convertFahrenheit is intended to convert from Fahrenheit to Celsius.\n",
    "- Convert the following psuedocode to python\n",
    "\n"
   ]
  },
  {
   "cell_type": "code",
   "execution_count": 2,
   "metadata": {},
   "outputs": [
    {
     "data": {
      "text/plain": [
       "6.666666666666667"
      ]
     },
     "execution_count": 2,
     "metadata": {},
     "output_type": "execute_result"
    }
   ],
   "source": [
    "def convertFahrenheit(temp):\n",
    "    celsius = temp - 32\n",
    "    celsius *= 5/9\n",
    "    return celsius\n",
    "\n",
    "outsideTemp = 44\n",
    "convertFahrenheit(outsideTemp)"
   ]
  },
  {
   "attachments": {},
   "cell_type": "markdown",
   "metadata": {},
   "source": [
    "## Developing Procedures\n",
    "\n",
    "Slide 8: \n",
    "\n",
    "Picking a descriptive name is important in case you revisit the code later on (separate words with capitals)\n",
    "There are 2 different types of procedures- ones that return a value and those that simply execute a block of statements\n",
    "Steps of developing procedure: picking a useful name, thinking of parameters (what data does the procedure need to know), making a flowchart or writing procedure in pseudocode, and actually developing the procedure.\n",
    "\n",
    "Slide 9: \n",
    "\n",
    "In this example, a teacher is writing a program that will replace the grade on a previous quiz if the new grade is better than the previous.\n",
    "\n",
    "- What would be a good name for this procedure?\n",
    "- What parameters do we need for this procedure?\n",
    "- Try writing this procedure out in python based on the given pseudocode\n",
    "\n"
   ]
  },
  {
   "cell_type": "code",
   "execution_count": 7,
   "metadata": {},
   "outputs": [
    {
     "data": {
      "text/plain": [
       "90"
      ]
     },
     "execution_count": 7,
     "metadata": {},
     "output_type": "execute_result"
    }
   ],
   "source": [
    "# procedure goes here\n",
    "\n",
    "def replaceGrade(currentGrade, newGrade):\n",
    "    if currentGrade < newGrade:\n",
    "        currentGrade = newGrade\n",
    "    return currentGrade\n",
    "\n",
    "replaceGrade(30, 90)"
   ]
  },
  {
   "attachments": {},
   "cell_type": "markdown",
   "metadata": {},
   "source": [
    "## Procedural Abstraction\n",
    "\n",
    "- One type of abstraction is procedural abstraction which provides a name for a process and allows a procedure to be used only knowing what it does and not how it does it\n",
    "- This is very helpful in managing complexity in a program\n",
    "- Subdivision of a program into separate subprograms is called modularity\n",
    "- A procedural abstraction may extract shared features to generalize functionality instead of duplicating code. This allows for program reuse, which helps manage complexity\n",
    "- When a pre-written procedure is called, you don’t necessarily need to know the details of this, just what it does and how to call it\n",
    "- Simply, procedural abstraction is naming and calling a prewritten procedure\n",
    "- Making sure to include the right arguments so the procedure can do what its supposed to do is crucial"
   ]
  },
  {
   "cell_type": "markdown",
   "metadata": {},
   "source": [
    "## Complexity Example\n",
    "\n",
    "One of the biggest advantages of procedural abstraction is managing complexity.\n",
    "\n",
    "Think about the process of simplifying the code?\n",
    "What do you think the advantage of the code segment on the left is?\n",
    "\n",
    "|Code Segment 1|Code Segment 2|\n",
    "|--------------|--------------|\n",
    "|ROTATE_LEFT()|detourLeft()|\n",
    "MOVE_FORWARD()|turnCorner()| \n",
    "ROTATE_RIGHT  |MOVE_FORWARD()| \n",
    "MOVE_FORWARD()|MOVE_FORWARD()|\n",
    "MOVE_FORWARD()\n",
    "ROTATE_RIGHT()\n",
    "MOVE_FORWARD()\n",
    "ROTATE_LEFT()\n",
    "MOVE_FORWARD()\n",
    "ROTATE_LEFT()\n",
    "MOVE_FORWARD()\n",
    "MOVE_FORWARD\n",
    "MOVE_FORWARD()"
   ]
  },
  {
   "attachments": {},
   "cell_type": "markdown",
   "metadata": {},
   "source": [
    "## Hacks\n",
    "\n",
    "- Write a python procedure about something which can help you in school, for example the teacher’s function we spoke about earlier.\n",
    "- Points will be awarded based on creativity and functionality\n",
    "- 0.1 points will be deducted for late submissions\n",
    "- Submit the notes with all blanks filled in (scored out of 0.5 points) and the python procedure (scored out of 0.5 points) by Monday 12/12 at 11:59 PM.\n"
   ]
  },
  {
   "cell_type": "code",
   "execution_count": 12,
   "metadata": {},
   "outputs": [
    {
     "name": "stdout",
     "output_type": "stream",
     "text": [
      "do your mother\n",
      "do your father\n",
      "Calculus BC homework\n"
     ]
    }
   ],
   "source": [
    "toDo = []\n",
    "\n",
    "def addToToDo(newItem):\n",
    "    global toDo\n",
    "    toDo.append(newItem)\n",
    "    return toDo\n",
    "\n",
    "def addNewItem():\n",
    "    if input(\"would you like to add more to the toDo list. Y/N\").lower() == \"n\":\n",
    "        printToDo()\n",
    "        return\n",
    "    else:\n",
    "        toDo = addToToDo(input(\"what would you like to add\"))\n",
    "        addNewItem()\n",
    "\n",
    "def printToDo():\n",
    "    global toDo\n",
    "    for i in toDo:\n",
    "        print(i)\n",
    "    return\n",
    "\n",
    "addNewItem()\n",
    "\n",
    "    \n"
   ]
  }
 ],
 "metadata": {
  "kernelspec": {
   "display_name": "base",
   "language": "python",
   "name": "python3"
  },
  "language_info": {
   "codemirror_mode": {
    "name": "ipython",
    "version": 3
   },
   "file_extension": ".py",
   "mimetype": "text/x-python",
   "name": "python",
   "nbconvert_exporter": "python",
   "pygments_lexer": "ipython3",
   "version": "3.9.12 (main, Apr  5 2022, 01:53:17) \n[Clang 12.0.0 ]"
  },
  "orig_nbformat": 4,
  "vscode": {
   "interpreter": {
    "hash": "36ac99974a67ba75ab4929ee9ef936c7cb2a4690d97ade6d3ca6bd9cb1ab7116"
   }
  }
 },
 "nbformat": 4,
 "nbformat_minor": 2
}
