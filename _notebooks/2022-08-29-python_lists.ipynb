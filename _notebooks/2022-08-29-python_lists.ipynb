{
 "cells": [
  {
   "cell_type": "markdown",
   "metadata": {},
   "source": [
    "# Lists and Dictionaries w/Python\n",
    "> This is where I use python and lists and things\n",
    "\n",
    "- title: Lists and Dictionaries w/Python\n",
    "- toc: true\n",
    "- categories: [newCode]\n",
    "- badges: true"
   ]
  },
  {
   "cell_type": "markdown",
   "metadata": {},
   "source": [
    "Here I use lists and dictionaries in order to ask people what some of their favorite things are and what the names of their pets are."
   ]
  },
  {
   "cell_type": "code",
   "execution_count": 27,
   "metadata": {},
   "outputs": [],
   "source": [
    "RandomThings = [] #defines the Random things list"
   ]
  },
  {
   "cell_type": "code",
   "execution_count": 28,
   "metadata": {},
   "outputs": [
    {
     "name": "stdout",
     "output_type": "stream",
     "text": [
      "[]\n"
     ]
    }
   ],
   "source": [
    "def reset_RandomThings():\n",
    "    RandomThings.clear() #method to clear a list\n",
    "    print(RandomThings)\n",
    "    return None\n",
    "\n",
    "reset_RandomThings() #function I made which empties the list so it's ready for new inputs"
   ]
  },
  {
   "cell_type": "code",
   "execution_count": 29,
   "metadata": {},
   "outputs": [],
   "source": [
    "def print_data(entry): #function to print data in any dictionary. made to run again for each entry in a dictionary. \n",
    "    print(entry[keys[0]], entry[keys[1]]) #uses the keys list so it is more abstract\n",
    "    i = 1 #sets I to 1 and then adds 1 later so it skips over the first two items in the keys list, which are already printed\n",
    "    while (True): #while loop which will continue running until the function ends\n",
    "        try: #try runs until the code within gives an error and then instead of stopping the code it switches to a different exception\n",
    "            i += 1 #adds one to move to the next item in the keys list\n",
    "            if keys[i] != \"Pets\": #checks if we are on the pets item because it needs to be displayed differently, the dictionary entry is itself a list\n",
    "                print(\"\\t\", \"Favorite\", keys[i] + \":\", entry[keys[i]]) #prints out the key which is the catagory and the entry in the dictionary which corresponds to that key. \n",
    "            else:\n",
    "                print(\"\\t\", \"Pets:\", \", \".join(entry[keys[i]])) #uses ,join which turns multiple entries in a list into a single string and joins them with the \", \" in between\n",
    "                print()\n",
    "        except: #if it gives an error i.e. i reaches a value such that there are no more corresponding keys in the list the function will be stopped\n",
    "            return None\n",
    "\n",
    "def for_loop_print(dictionary): #functoin which takes in a dictionary and runs the print_data function individually for each entry\n",
    "    for record in dictionary:\n",
    "        print_data(record)\n",
    "\n",
    "\n",
    "for_loop_print(RandomThings)\n"
   ]
  },
  {
   "cell_type": "code",
   "execution_count": 26,
   "metadata": {},
   "outputs": [
    {
     "ename": "KeyError",
     "evalue": "3",
     "output_type": "error",
     "traceback": [
      "\u001b[0;31m---------------------------------------------------------------------------\u001b[0m",
      "\u001b[0;31mKeyError\u001b[0m                                  Traceback (most recent call last)",
      "\u001b[1;32m/Users/tobyleeder/vscode/CSPFastpages/_notebooks/2022-08-29-python_lists.ipynb Cell 6\u001b[0m in \u001b[0;36m<cell line: 1>\u001b[0;34m()\u001b[0m\n\u001b[0;32m----> <a href='vscode-notebook-cell:/Users/tobyleeder/vscode/CSPFastpages/_notebooks/2022-08-29-python_lists.ipynb#X12sZmlsZQ%3D%3D?line=0'>1</a>\u001b[0m print_data(RandomThings[\u001b[39m1\u001b[39;49m][\u001b[39m3\u001b[39;49m])\n",
      "\u001b[0;31mKeyError\u001b[0m: 3"
     ]
    }
   ],
   "source": []
  },
  {
   "cell_type": "code",
   "execution_count": 23,
   "metadata": {},
   "outputs": [
    {
     "name": "stdout",
     "output_type": "stream",
     "text": [
      "What is your first name?\n",
      "What is your last name?\n",
      "What is your favorite color?\n",
      "What is your favorite food?\n",
      "What is your favorite place?\n",
      "What is your favorite animal?\n",
      "What is your favorite song?\n",
      "Do you have any pets? Y or N\n",
      "What is the name of your first pet?\n",
      "What is the name of your next pet? If you have no more pets, type N.\n",
      "What is the name of your next pet? If you have no more pets, type N.\n",
      "What is the name of your next pet? If you have no more pets, type N.\n",
      "What is the name of your next pet? If you have no more pets, type N.\n",
      "Toby Leeder\n",
      "Billy Bob\n",
      "Jeff Geoff\n",
      "\t Favorite Color: Jeff\n",
      "\t Favorite Food: Jeffs\n",
      "\t Favorite Place: Jeff's house\n",
      "\t Favorite Animal: Geoff\n",
      "\t Favorite Song: Goeff and Jeff\n",
      "\t Pets: Bob, Mob, Sob, Glob\n",
      "\n"
     ]
    }
   ],
   "source": [
    "questions = [ #list with all of the questions\n",
    "    \"What is your first name?\",\n",
    "    \"What is your last name?\",\n",
    "    \"What is your favorite color?\",\n",
    "    \"What is your favorite food?\",\n",
    "    \"What is your favorite place?\",\n",
    "    \"What is your favorite animal?\",\n",
    "    \"What is your favorite song?\",\n",
    "    \"Do you own any pets?\"\n",
    "]\n",
    "\n",
    "keys = [ #list with the keys \n",
    "    \"FirstName\",\n",
    "    \"LastName\",\n",
    "    \"Color\",\n",
    "    \"Food\",\n",
    "    \"Place\",\n",
    "    \"Animal\",\n",
    "    \"Song\",\n",
    "    \"Pets\"\n",
    "]\n",
    "\n",
    "def new_input(): #function to add a new input to the list\n",
    "    RandomThings.append({ #adds a new entry in the RandomThings list. It uses placeholder entries whic are later changed. \n",
    "        keys[0]: \"placeholder\",\n",
    "        keys[1]: \"placeholder\",\n",
    "        keys[2]: \"placeholder\",\n",
    "        keys[3]: \"placeholder\",\n",
    "        keys[4]: \"placeholder\",\n",
    "        keys[5]: \"placeholder\",\n",
    "        keys[6]: \"placeholder\",\n",
    "        keys[7]: [\"placeholder\"]\n",
    "    })\n",
    "    for x in questions: #for loop for changing the placeholder information\n",
    "        if x != questions[len(questions)-1]: #the pets question is different, it's sorta like a list within a list so it needs to set it differently you cant just use an input.\n",
    "            RandomThings[len(RandomThings) - 1][keys[questions.index(x)]] = str(get_input(x)) # \"len(RandomThings) - 1\" is used to select the correct entry in RandomThings. For \"keys[questions.index(x)\" the \"questions.index(x)\" part finds what position in the list called questions, \"x\" is since x is a string of one of the questions. Then the keys part takes that same entry in the keys list so they match. \n",
    "        else:\n",
    "            RandomThings[len(RandomThings) - 1][keys[questions.index(x)]] = check_pet() #this is exactly the same as the car question except it can't just get a basic input since it has to use a list as well for multiple cars. \n",
    "\n",
    "def get_input(question): #function for printing a question and then getting and input\n",
    "    print(question)\n",
    "    return input()\n",
    "\n",
    "def check_pet(): #function for checking the pets a person has\n",
    "    resp = get_input(\"Do you have any pets? Y or N\")\n",
    "    if resp == \"Y\" or resp == \"y\" or resp == \"yes\" or resp == \"Yes\":\n",
    "        return pet_count() #function for counting the pets\n",
    "    else:\n",
    "        return [\"None\"] #basic return if someone has no pets\n",
    "\n",
    "def pet_count(): #function for counting pets\n",
    "    pet = [get_input(\"What is the name of your first pet?\")]\n",
    "    more_pets = True\n",
    "    while (more_pets):\n",
    "        p_check = get_input(\"What is the name of your next pet? If you have no more pets, type N.\")\n",
    "        if p_check == \"N\" or p_check == \"n\" or p_check == \"no\" or p_check == \"No\":\n",
    "            return pet\n",
    "        else:\n",
    "            pet = pet + [p_check]\n",
    "  \n",
    "\n",
    "    #This was my original code before I wanted to abstract it more\n",
    "#    second_pet = get_input(\"What is your second car? If you have no more type N.\")\n",
    "#    if second_pet == \"N\" or second_pet == \"n\": #checks if they don't have a second car. \n",
    "#        return [first_pet] #returns only the first car\n",
    "#    else:\n",
    "#        third_pet = get_input(\"What is your third car? If you have no more type N.\")\n",
    "#        if third_pet == \"N\" or third_pet == \"n\": #checks if they only have two cars\n",
    "#            return [first_pet, second_pet] #returns the second car\n",
    "#        else:\n",
    "#            print(\"You have too many cars already I'm not asking if you have anymore\")\n",
    "#            return [first_pet, second_pet, third_pet] #I just didn't want to make it go on infinitely, though I could have if I used a list\n",
    "\n",
    "\n",
    "new_input()\n",
    "\n",
    "for_loop_print(RandomThings)"
   ]
  },
  {
   "cell_type": "code",
   "execution_count": null,
   "metadata": {},
   "outputs": [],
   "source": []
  },
  {
   "cell_type": "markdown",
   "metadata": {},
   "source": [
    "### Notes\n"
   ]
  }
 ],
 "metadata": {
  "kernelspec": {
   "display_name": "Python 3.10.6 64-bit",
   "language": "python",
   "name": "python3"
  },
  "language_info": {
   "codemirror_mode": {
    "name": "ipython",
    "version": 3
   },
   "file_extension": ".py",
   "mimetype": "text/x-python",
   "name": "python",
   "nbconvert_exporter": "python",
   "pygments_lexer": "ipython3",
   "version": "3.10.6"
  },
  "orig_nbformat": 4,
  "vscode": {
   "interpreter": {
    "hash": "aee8b7b246df8f9039afb4144a1f6fd8d2ca17a180786b69acc140d282b71a49"
   }
  }
 },
 "nbformat": 4,
 "nbformat_minor": 2
}
