{
 "cells": [
  {
   "cell_type": "markdown",
   "metadata": {},
   "source": [
    "# Python QnA\n",
    "> I made a QnA, the code is down there.\n",
    "\n",
    "- toc: true \n",
    "- badges: true\n",
    "- comments: true\n",
    "- categories: [jupyter]"
   ]
  },
  {
   "cell_type": "markdown",
   "metadata": {},
   "source": [
    "# This Is a QnA\n",
    "\n",
    "I made it with python. It's pretty efficient I think. My goal was to get rid of as much repeating code as possible and I think I did that. There is still some repitition, but at this point it wouldn't make much sense to get rid of it. "
   ]
  },
  {
   "cell_type": "code",
   "execution_count": 4,
   "metadata": {},
   "outputs": [
    {
     "name": "stdout",
     "output_type": "stream",
     "text": [
      "Hello, tobyleeder running /usr/local/bin/python3\n",
      "Are you ready to take a test?\n",
      "Question: What command is used to include other functions that were previously developed?\n",
      "import is correct\n",
      "Question: What command is used to evaluate correct or incorrect response in this example?\n",
      "if is correct\n",
      "Question: Each 'if' command contains an '_________' to determine a true or false condition?\n",
      "expression is correct\n",
      "Question: What language are you using?\n",
      "English is incorrect! The correct answer is english\n",
      "Question: What language am I using?\n",
      "java is incorrect! The correct answer is python\n",
      "Question: What is the square root of 169?\n",
      "12 is incorrect! The correct answer is 13\n",
      "Question: What is the command to output a line of text?\n",
      "pringle is incorrect! The correct answer is print\n",
      "tobyleeder you scored 42.86%, you got an F.\n"
     ]
    }
   ],
   "source": [
    "#collapse_show\n",
    "\n",
    "import getpass, sys\n",
    "\n",
    "#initialize variables\n",
    "qnumber = 0 #number of questions\n",
    "correct = 0 #number of correct answers\n",
    "\n",
    "#list of questions which each correspond with an answer\n",
    "questions = [\"What command is used to include other functions that were previously developed?\", \n",
    "            \"What command is used to evaluate correct or incorrect response in this example?\", \n",
    "            \"Each 'if' command contains an '_________' to determine a true or false condition?\",\n",
    "            \"What language are you using?\",\n",
    "            \"What language am I using?\",\n",
    "            \"What is the square root of 169?\",\n",
    "            \"What is the command to output a line of text?\"\n",
    "            ]\n",
    "#list of answers which each correspond with a question\n",
    "answers = [\"import\",\n",
    "            \"if\",\n",
    "            \"expression\",\n",
    "            \"english\",\n",
    "            \"python\",\n",
    "            \"13\",\n",
    "            \"print\"\n",
    "          ]\n",
    "          \n",
    "\n",
    "def question_with_response(prompt): #question and answer function\n",
    "    print(\"Question: \" + prompt)\n",
    "    msg = input() #asks for an input as the answer\n",
    "    return msg #returns the input\n",
    "\n",
    "def rsp (msg, correctAnswer): #function to check if the answer is correct, has both the input and the correct answer as the parameters\n",
    "    if msg == correctAnswer: #checks if your answer is correct\n",
    "        print(msg + \" is correct\") \n",
    "        return 1 #returns 1 if correct\n",
    "    else:\n",
    "        print(msg + \" is incorrect! The correct answer is \" + correctAnswer) \n",
    "        return 0 #returns 0 if false\n",
    "\n",
    "def whatGrade(percent): #determines what letter grade you get based on your percent and returns the letter as a string (includes a/an because it's dependent on the letter)\n",
    "    if 90 <= percent and percent <= 100:\n",
    "        return \"an A\"\n",
    "    if 80 <= percent and percent <= 90:\n",
    "        return \"a B\"\n",
    "    if 70 <= percent and percent <= 80:\n",
    "        return \"a C\"\n",
    "    if 60 <= percent and percent <= 70:\n",
    "        return \"a D\"\n",
    "    if  percent <= 60:\n",
    "        return \"an F\"\n",
    "\n",
    "#start of the test\n",
    "print('Hello, ' + getpass.getuser() + \" running \" + sys.executable) \n",
    "print(\"Are you ready to take a test?\")\n",
    "\n",
    "#code that runs a for loop for each question\n",
    "for x in questions: \n",
    "    correct += rsp(question_with_response(x), answers[qnumber]) #asks the questions which corresponds with the correct answer. If you get it correct it adds 1 and if you get it wrong it adds 0\n",
    "    qnumber += 1 #increases the question number. After the request for the response so the \"answers\" list starts at 0\n",
    "\n",
    "#rounds the correct number to a percent\n",
    "cnumber = round(correct/qnumber*100, 2)\n",
    "\n",
    "#prints your final score and letter grade\n",
    "print(getpass.getuser() + \" you scored \" + str(cnumber) + \"%, you got \" + whatGrade(cnumber) + \".\") #finds the username of the current user, rounds their score to the nearest tenth and gives you a letter grade\n"
   ]
  },
  {
   "cell_type": "markdown",
   "metadata": {},
   "source": [
    "# Python Learns\n",
    "\n",
    "I've had very little experience with Python before I used it so here's some of the new functionality I learned and the syntax for it.\n",
    "\n",
    "| Code | Syntax | Notes |\n",
    "|-|-|-|\n",
    "| Variables | Key = Value | Unlike Java, it looks like Python doesn't really use <br> variable assignments like java. Instead variables <br> can just be assigned \"any\" and then can be <br> assigned numbers, letters, strings or pretty much <br> watever other value you want including lists. |\n",
    "| Functions | def function_name(parameter1, parameter2, parameterX): <br>   code <br>   return value | Functions are pretty similar to other languages <br> for the most part. It is a little different than java <br> in that you don't really use keywords before to define <br> it like int, string or void for the return type or <br> static, private and public. They still function (get it?) <br> pretty much the same though. |\n",
    "| For loops | for newVar in definedVar: <br> code | For loops are probably the most different from Java. <br> This is because they go through a list of a variable <br> instead of creating a new integer and going until that <br> integer reaches a value. That interger is suprisingly <br> useful, so to me it seems like this change removes <br> some of the functionality of a for loop. Despite this <br> though I still found ways around it and was able <br> to accomplish my goals. "
   ]
  }
 ],
 "metadata": {
  "kernelspec": {
   "display_name": "Python 3.10.6 64-bit",
   "language": "python",
   "name": "python3"
  },
  "language_info": {
   "codemirror_mode": {
    "name": "ipython",
    "version": 3
   },
   "file_extension": ".py",
   "mimetype": "text/x-python",
   "name": "python",
   "nbconvert_exporter": "python",
   "pygments_lexer": "ipython3",
   "version": "3.10.6"
  },
  "orig_nbformat": 4,
  "vscode": {
   "interpreter": {
    "hash": "aee8b7b246df8f9039afb4144a1f6fd8d2ca17a180786b69acc140d282b71a49"
   }
  }
 },
 "nbformat": 4,
 "nbformat_minor": 2
}
