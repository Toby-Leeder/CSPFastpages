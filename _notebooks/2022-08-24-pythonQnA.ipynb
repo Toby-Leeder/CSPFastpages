{
 "cells": [
  {
   "cell_type": "markdown",
   "metadata": {},
   "source": [
    "# Python stuff"
   ]
  },
  {
   "cell_type": "markdown",
   "metadata": {},
   "source": [
    "# Python QnA\n",
    "> I made a QnA, the code is down there.\n",
    "\n",
    "- toc: true \n",
    "- badges: true\n",
    "- comments: true\n",
    "- categories: [jupyter]"
   ]
  },
  {
   "cell_type": "code",
   "execution_count": 10,
   "metadata": {},
   "outputs": [
    {
     "name": "stdout",
     "output_type": "stream",
     "text": [
      "Hello, tobyleeder running /usr/local/bin/python3\n",
      "Are you ready to take a test?\n",
      "Question: What command is used to include other functions that were previously developed?\n",
      "import is correct\n",
      "Question: What command is used to evaluate correct or incorrect response in this example?\n",
      "if is correct\n",
      "Question: Each 'if' command contains an '_________' to determine a true or false condition?\n",
      "expression is correct\n",
      "Question: What language are you using?\n",
      "? is incorrect! The correct answer is english\n",
      "Question: What language am I using?\n",
      "jav is incorrect! The correct answer is python\n",
      "Question: What is the square root of 169?\n",
      "13 is correct\n",
      "Question: What is the command to output a line of text?\n",
      "print is correct\n",
      "tobyleeder you scored 71.43%, you got a C.\n"
     ]
    }
   ],
   "source": [
    "#collapse_show\n",
    "\n",
    "import getpass, sys\n",
    "\n",
    "qnumber = 0\n",
    "correct = 0\n",
    "\n",
    "questions = [\"What command is used to include other functions that were previously developed?\", \n",
    "            \"What command is used to evaluate correct or incorrect response in this example?\", \n",
    "            \"Each 'if' command contains an '_________' to determine a true or false condition?\",\n",
    "            \"What language are you using?\",\n",
    "            \"What language am I using?\",\n",
    "            \"What is the square root of 169?\",\n",
    "            \"What is the command to output a line of text?\"\n",
    "            ]\n",
    "answers = [\"import\",\n",
    "            \"if\",\n",
    "            \"expression\",\n",
    "            \"english\",\n",
    "            \"python\",\n",
    "            \"13\",\n",
    "            \"print\"\n",
    "          ]\n",
    "          \n",
    "\n",
    "def question_with_response(prompt): #question and answer function\n",
    "    print(\"Question: \" + prompt)\n",
    "    msg = input() #asks for an input as the answer\n",
    "    return msg #returns the input\n",
    "\n",
    "def rsp (msg, correctAnswer): #function to check if the answer is correct\n",
    "    if msg == correctAnswer:\n",
    "        print(msg + \" is correct\")\n",
    "        return(1) #returns 1 if correct\n",
    "    else:\n",
    "        print(msg + \" is incorrect! The correct answer is \" + correctAnswer)\n",
    "        return (0) #returns 0 if false\n",
    "\n",
    "def whatGrade(percent):\n",
    "    if 90 <= percent and percent <= 100:\n",
    "        return \"an A\"\n",
    "    if 80 <= percent and percent <= 90:\n",
    "        return \"a B\"\n",
    "    if 70 <= percent and percent <= 80:\n",
    "        return \"a C\"\n",
    "    if 60 <= percent and percent <= 70:\n",
    "        return \"a D\"\n",
    "    if  percent <= 60:\n",
    "\n",
    "        return \"an F\"\n",
    "\n",
    "print('Hello, ' + getpass.getuser() + \" running \" + sys.executable)\n",
    "print(\"Are you ready to take a test?\")\n",
    "\n",
    "for x in questions:\n",
    "    correct += rsp(question_with_response(x), answers[qnumber])\n",
    "    qnumber += 1\n",
    "\n",
    "cnumber = round(correct/qnumber*100, 2)\n",
    "print(getpass.getuser() + \" you scored \" + str(cnumber) + \"%, you got \" + whatGrade(cnumber) + \".\")\n"
   ]
  }
 ],
 "metadata": {
  "kernelspec": {
   "display_name": "Python 3.10.6 64-bit",
   "language": "python",
   "name": "python3"
  },
  "language_info": {
   "codemirror_mode": {
    "name": "ipython",
    "version": 3
   },
   "file_extension": ".py",
   "mimetype": "text/x-python",
   "name": "python",
   "nbconvert_exporter": "python",
   "pygments_lexer": "ipython3",
   "version": "3.10.6"
  },
  "orig_nbformat": 4,
  "vscode": {
   "interpreter": {
    "hash": "aee8b7b246df8f9039afb4144a1f6fd8d2ca17a180786b69acc140d282b71a49"
   }
  }
 },
 "nbformat": 4,
 "nbformat_minor": 2
}
